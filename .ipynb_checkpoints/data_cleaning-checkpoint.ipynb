{
 "cells": [
  {
   "cell_type": "markdown",
   "metadata": {},
   "source": [
    "# Capstone Project 1: Liver Disease Prediction\n",
    "---\n",
    "## Data Cleaning\n",
    "### Nils Madsen 4/5/2018\n",
    "---"
   ]
  },
  {
   "cell_type": "code",
   "execution_count": 1,
   "metadata": {},
   "outputs": [],
   "source": [
    "#import modules\n",
    "import pandas as pd\n",
    "import numpy as np\n",
    "import matplotlib.pyplot as plt"
   ]
  },
  {
   "cell_type": "code",
   "execution_count": 2,
   "metadata": {
    "scrolled": true
   },
   "outputs": [
    {
     "data": {
      "text/html": [
       "<div>\n",
       "<style scoped>\n",
       "    .dataframe tbody tr th:only-of-type {\n",
       "        vertical-align: middle;\n",
       "    }\n",
       "\n",
       "    .dataframe tbody tr th {\n",
       "        vertical-align: top;\n",
       "    }\n",
       "\n",
       "    .dataframe thead th {\n",
       "        text-align: right;\n",
       "    }\n",
       "</style>\n",
       "<table border=\"1\" class=\"dataframe\">\n",
       "  <thead>\n",
       "    <tr style=\"text-align: right;\">\n",
       "      <th></th>\n",
       "      <th>age</th>\n",
       "      <th>sex</th>\n",
       "      <th>total bili</th>\n",
       "      <th>direct bili</th>\n",
       "      <th>ALP</th>\n",
       "      <th>ALT</th>\n",
       "      <th>AST</th>\n",
       "      <th>total protein</th>\n",
       "      <th>albumin</th>\n",
       "      <th>a-g ratio</th>\n",
       "      <th>group</th>\n",
       "    </tr>\n",
       "  </thead>\n",
       "  <tbody>\n",
       "    <tr>\n",
       "      <th>0</th>\n",
       "      <td>65</td>\n",
       "      <td>Female</td>\n",
       "      <td>0.7</td>\n",
       "      <td>0.1</td>\n",
       "      <td>187</td>\n",
       "      <td>16</td>\n",
       "      <td>18</td>\n",
       "      <td>6.8</td>\n",
       "      <td>3.3</td>\n",
       "      <td>0.90</td>\n",
       "      <td>1</td>\n",
       "    </tr>\n",
       "    <tr>\n",
       "      <th>1</th>\n",
       "      <td>62</td>\n",
       "      <td>Male</td>\n",
       "      <td>10.9</td>\n",
       "      <td>5.5</td>\n",
       "      <td>699</td>\n",
       "      <td>64</td>\n",
       "      <td>100</td>\n",
       "      <td>7.5</td>\n",
       "      <td>3.2</td>\n",
       "      <td>0.74</td>\n",
       "      <td>1</td>\n",
       "    </tr>\n",
       "    <tr>\n",
       "      <th>2</th>\n",
       "      <td>62</td>\n",
       "      <td>Male</td>\n",
       "      <td>7.3</td>\n",
       "      <td>4.1</td>\n",
       "      <td>490</td>\n",
       "      <td>60</td>\n",
       "      <td>68</td>\n",
       "      <td>7.0</td>\n",
       "      <td>3.3</td>\n",
       "      <td>0.89</td>\n",
       "      <td>1</td>\n",
       "    </tr>\n",
       "    <tr>\n",
       "      <th>3</th>\n",
       "      <td>58</td>\n",
       "      <td>Male</td>\n",
       "      <td>1.0</td>\n",
       "      <td>0.4</td>\n",
       "      <td>182</td>\n",
       "      <td>14</td>\n",
       "      <td>20</td>\n",
       "      <td>6.8</td>\n",
       "      <td>3.4</td>\n",
       "      <td>1.00</td>\n",
       "      <td>1</td>\n",
       "    </tr>\n",
       "    <tr>\n",
       "      <th>4</th>\n",
       "      <td>72</td>\n",
       "      <td>Male</td>\n",
       "      <td>3.9</td>\n",
       "      <td>2.0</td>\n",
       "      <td>195</td>\n",
       "      <td>27</td>\n",
       "      <td>59</td>\n",
       "      <td>7.3</td>\n",
       "      <td>2.4</td>\n",
       "      <td>0.40</td>\n",
       "      <td>1</td>\n",
       "    </tr>\n",
       "  </tbody>\n",
       "</table>\n",
       "</div>"
      ],
      "text/plain": [
       "   age     sex  total bili  direct bili  ALP  ALT  AST  total protein  \\\n",
       "0   65  Female         0.7          0.1  187   16   18            6.8   \n",
       "1   62    Male        10.9          5.5  699   64  100            7.5   \n",
       "2   62    Male         7.3          4.1  490   60   68            7.0   \n",
       "3   58    Male         1.0          0.4  182   14   20            6.8   \n",
       "4   72    Male         3.9          2.0  195   27   59            7.3   \n",
       "\n",
       "   albumin  a-g ratio  group  \n",
       "0      3.3       0.90      1  \n",
       "1      3.2       0.74      1  \n",
       "2      3.3       0.89      1  \n",
       "3      3.4       1.00      1  \n",
       "4      2.4       0.40      1  "
      ]
     },
     "execution_count": 2,
     "metadata": {},
     "output_type": "execute_result"
    }
   ],
   "source": [
    "#load csv into dataframe and label columns\n",
    "raw_df = pd.read_csv('indian_liver_dataset.csv', header=None)\n",
    "raw_df.columns = ['age', 'sex', 'total bili', 'direct bili', 'ALP', 'ALT', 'AST', 'total protein', 'albumin', \n",
    "                  'a-g ratio', 'group']\n",
    "\n",
    "raw_df.head()"
   ]
  },
  {
   "cell_type": "code",
   "execution_count": 3,
   "metadata": {},
   "outputs": [
    {
     "name": "stdout",
     "output_type": "stream",
     "text": [
      "<class 'pandas.core.frame.DataFrame'>\n",
      "RangeIndex: 583 entries, 0 to 582\n",
      "Data columns (total 11 columns):\n",
      "age              583 non-null int64\n",
      "sex              583 non-null object\n",
      "total bili       583 non-null float64\n",
      "direct bili      583 non-null float64\n",
      "ALP              583 non-null int64\n",
      "ALT              583 non-null int64\n",
      "AST              583 non-null int64\n",
      "total protein    583 non-null float64\n",
      "albumin          583 non-null float64\n",
      "a-g ratio        579 non-null float64\n",
      "group            583 non-null int64\n",
      "dtypes: float64(5), int64(5), object(1)\n",
      "memory usage: 50.2+ KB\n",
      "None\n"
     ]
    }
   ],
   "source": [
    "print(raw_df.info())"
   ]
  },
  {
   "cell_type": "markdown",
   "metadata": {},
   "source": [
    "___\n",
    "## Data Types\n",
    "\n",
    "The data types in the raw data already look clean. There are no issues like numeric variables stored as strings. For performance purposes, the sex and group columns could be converted to categorical type. However, I plan to store the cleaned data as another csv file, so making that conversion here would be premature. \n",
    "___"
   ]
  },
  {
   "cell_type": "code",
   "execution_count": 4,
   "metadata": {},
   "outputs": [
    {
     "data": {
      "text/html": [
       "<div>\n",
       "<style scoped>\n",
       "    .dataframe tbody tr th:only-of-type {\n",
       "        vertical-align: middle;\n",
       "    }\n",
       "\n",
       "    .dataframe tbody tr th {\n",
       "        vertical-align: top;\n",
       "    }\n",
       "\n",
       "    .dataframe thead th {\n",
       "        text-align: right;\n",
       "    }\n",
       "</style>\n",
       "<table border=\"1\" class=\"dataframe\">\n",
       "  <thead>\n",
       "    <tr style=\"text-align: right;\">\n",
       "      <th></th>\n",
       "      <th>age</th>\n",
       "      <th>sex</th>\n",
       "      <th>total bili</th>\n",
       "      <th>direct bili</th>\n",
       "      <th>ALP</th>\n",
       "      <th>ALT</th>\n",
       "      <th>AST</th>\n",
       "      <th>total protein</th>\n",
       "      <th>albumin</th>\n",
       "      <th>a-g ratio</th>\n",
       "      <th>group</th>\n",
       "    </tr>\n",
       "  </thead>\n",
       "  <tbody>\n",
       "    <tr>\n",
       "      <th>209</th>\n",
       "      <td>45</td>\n",
       "      <td>Female</td>\n",
       "      <td>0.9</td>\n",
       "      <td>0.3</td>\n",
       "      <td>189</td>\n",
       "      <td>23</td>\n",
       "      <td>33</td>\n",
       "      <td>6.6</td>\n",
       "      <td>3.9</td>\n",
       "      <td>NaN</td>\n",
       "      <td>1</td>\n",
       "    </tr>\n",
       "    <tr>\n",
       "      <th>241</th>\n",
       "      <td>51</td>\n",
       "      <td>Male</td>\n",
       "      <td>0.8</td>\n",
       "      <td>0.2</td>\n",
       "      <td>230</td>\n",
       "      <td>24</td>\n",
       "      <td>46</td>\n",
       "      <td>6.5</td>\n",
       "      <td>3.1</td>\n",
       "      <td>NaN</td>\n",
       "      <td>1</td>\n",
       "    </tr>\n",
       "    <tr>\n",
       "      <th>253</th>\n",
       "      <td>35</td>\n",
       "      <td>Female</td>\n",
       "      <td>0.6</td>\n",
       "      <td>0.2</td>\n",
       "      <td>180</td>\n",
       "      <td>12</td>\n",
       "      <td>15</td>\n",
       "      <td>5.2</td>\n",
       "      <td>2.7</td>\n",
       "      <td>NaN</td>\n",
       "      <td>2</td>\n",
       "    </tr>\n",
       "    <tr>\n",
       "      <th>312</th>\n",
       "      <td>27</td>\n",
       "      <td>Male</td>\n",
       "      <td>1.3</td>\n",
       "      <td>0.6</td>\n",
       "      <td>106</td>\n",
       "      <td>25</td>\n",
       "      <td>54</td>\n",
       "      <td>8.5</td>\n",
       "      <td>4.8</td>\n",
       "      <td>NaN</td>\n",
       "      <td>2</td>\n",
       "    </tr>\n",
       "  </tbody>\n",
       "</table>\n",
       "</div>"
      ],
      "text/plain": [
       "     age     sex  total bili  direct bili  ALP  ALT  AST  total protein  \\\n",
       "209   45  Female         0.9          0.3  189   23   33            6.6   \n",
       "241   51    Male         0.8          0.2  230   24   46            6.5   \n",
       "253   35  Female         0.6          0.2  180   12   15            5.2   \n",
       "312   27    Male         1.3          0.6  106   25   54            8.5   \n",
       "\n",
       "     albumin  a-g ratio  group  \n",
       "209      3.9        NaN      1  \n",
       "241      3.1        NaN      1  \n",
       "253      2.7        NaN      2  \n",
       "312      4.8        NaN      2  "
      ]
     },
     "execution_count": 4,
     "metadata": {},
     "output_type": "execute_result"
    }
   ],
   "source": [
    "# view the 4 rows that have NaN values for albumin-globulin ratio\n",
    "raw_df.loc[pd.isnull(raw_df['a-g ratio']), :]"
   ]
  },
  {
   "cell_type": "markdown",
   "metadata": {},
   "source": [
    "---\n",
    "## Missing values\n",
    "\n",
    "Since there are only 4 observations with incomplete information, dropping these observations is unlikely to bias the overall dataset in a meaningful way. However, only one variable is missing from these rows, so dropping the entire row seems like a waste of good data.\n",
    "\n",
    "Another option is to drop the entire variable. However, this option is usually reserved for cases where a large portion of the field is missing. Also, removing an entire variable might reduce the effectiveness of machine learning.\n",
    "\n",
    "Given the small number of missing values, and the goal of predicting the presence of liver disease, I believe the best way forward is to fill the missing values by imputing from the mean or median of the relevant liver disease group. This should give the machine learning algorithm slightly more data to learn from, while preserving the population distributions of the two groups.\n",
    "___"
   ]
  },
  {
   "cell_type": "code",
   "execution_count": 34,
   "metadata": {},
   "outputs": [
    {
     "name": "stdout",
     "output_type": "stream",
     "text": [
      "count    414.000000\n",
      "mean       0.914179\n",
      "std        0.326153\n",
      "min        0.300000\n",
      "25%        0.700000\n",
      "50%        0.900000\n",
      "75%        1.100000\n",
      "max        2.800000\n",
      "Name: a-g ratio, dtype: float64\n",
      "count    165.000000\n",
      "mean       1.029576\n",
      "std        0.287252\n",
      "min        0.370000\n",
      "25%        0.900000\n",
      "50%        1.000000\n",
      "75%        1.200000\n",
      "max        1.900000\n",
      "Name: a-g ratio, dtype: float64\n"
     ]
    },
    {
     "data": {
      "image/png": "[encoded data removed]",
      "text/plain": [
       "<matplotlib.figure.Figure at 0x19f93f7a898>"
      ]
     },
     "metadata": {},
     "output_type": "display_data"
    },
    {
     "data": {
      "text/plain": [
       "<matplotlib.figure.Figure at 0x19f93f86160>"
      ]
     },
     "metadata": {},
     "output_type": "display_data"
    }
   ],
   "source": [
    "#investigate the distribution of a-g ratio to determine whether to use mean or median for imputation\n",
    "print(raw_df.loc[raw_df['group']==1, 'a-g ratio'].describe())\n",
    "print(raw_df.loc[raw_df['group']==2, 'a-g ratio'].describe())\n",
    "raw_df.boxplot('a-g ratio', by='group')\n",
    "plt.show()\n",
    "plt.gcf().clear()"
   ]
  },
  {
   "cell_type": "markdown",
   "metadata": {},
   "source": [
    "___\n",
    "There are some outliers in the a-g ratio variable, but the mean and median are very close in value in both groups. The difference is likely to be minimal, so I will use the mean for the imputation.\n",
    "___"
   ]
  },
  {
   "cell_type": "code",
   "execution_count": 33,
   "metadata": {},
   "outputs": [
    {
     "name": "stdout",
     "output_type": "stream",
     "text": [
      "<class 'pandas.core.frame.DataFrame'>\n",
      "RangeIndex: 583 entries, 0 to 582\n",
      "Data columns (total 11 columns):\n",
      "age              583 non-null int64\n",
      "sex              583 non-null object\n",
      "total bili       583 non-null float64\n",
      "direct bili      583 non-null float64\n",
      "ALP              583 non-null int64\n",
      "ALT              583 non-null int64\n",
      "AST              583 non-null int64\n",
      "total protein    583 non-null float64\n",
      "albumin          583 non-null float64\n",
      "a-g ratio        583 non-null float64\n",
      "group            583 non-null int64\n",
      "dtypes: float64(5), int64(5), object(1)\n",
      "memory usage: 50.2+ KB\n",
      "None\n",
      "   age     sex  total bili  direct bili  ALP  ALT  AST  total protein  \\\n",
      "0   65  Female         0.7          0.1  187   16   18            6.8   \n",
      "1   62    Male        10.9          5.5  699   64  100            7.5   \n",
      "2   62    Male         7.3          4.1  490   60   68            7.0   \n",
      "3   58    Male         1.0          0.4  182   14   20            6.8   \n",
      "4   72    Male         3.9          2.0  195   27   59            7.3   \n",
      "\n",
      "   albumin  a-g ratio  group  \n",
      "0      3.3       0.90      1  \n",
      "1      3.2       0.74      1  \n",
      "2      3.3       0.89      1  \n",
      "3      3.4       1.00      1  \n",
      "4      2.4       0.40      1  \n",
      "   age     sex  total bili  direct bili  ALP  ALT  AST  total protein  \\\n",
      "0   65  Female         0.7          0.1  187   16   18            6.8   \n",
      "1   62    Male        10.9          5.5  699   64  100            7.5   \n",
      "2   62    Male         7.3          4.1  490   60   68            7.0   \n",
      "3   58    Male         1.0          0.4  182   14   20            6.8   \n",
      "4   72    Male         3.9          2.0  195   27   59            7.3   \n",
      "\n",
      "   albumin  a-g ratio  group  \n",
      "0      3.3       0.90      1  \n",
      "1      3.2       0.74      1  \n",
      "2      3.3       0.89      1  \n",
      "3      3.4       1.00      1  \n",
      "4      2.4       0.40      1  \n",
      "     age     sex  total bili  direct bili  ALP  ALT  AST  total protein  \\\n",
      "209   45  Female         0.9          0.3  189   23   33            6.6   \n",
      "241   51    Male         0.8          0.2  230   24   46            6.5   \n",
      "253   35  Female         0.6          0.2  180   12   15            5.2   \n",
      "312   27    Male         1.3          0.6  106   25   54            8.5   \n",
      "\n",
      "     albumin  a-g ratio  group  \n",
      "209      3.9        NaN      1  \n",
      "241      3.1        NaN      1  \n",
      "253      2.7        NaN      2  \n",
      "312      4.8        NaN      2  \n",
      "     age     sex  total bili  direct bili  ALP  ALT  AST  total protein  \\\n",
      "209   45  Female         0.9          0.3  189   23   33            6.6   \n",
      "241   51    Male         0.8          0.2  230   24   46            6.5   \n",
      "253   35  Female         0.6          0.2  180   12   15            5.2   \n",
      "312   27    Male         1.3          0.6  106   25   54            8.5   \n",
      "\n",
      "     albumin  a-g ratio  group  \n",
      "209      3.9   0.914179      1  \n",
      "241      3.1   0.914179      1  \n",
      "253      2.7   1.029576      2  \n",
      "312      4.8   1.029576      2  \n"
     ]
    }
   ],
   "source": [
    "# impute missing values\n",
    "liver_df = raw_df.copy()\n",
    "liver_df.loc[liver_df['a-g ratio'].isnull(), 'a-g ratio'] = liver_df.groupby('group')['a-g ratio'].transform('mean')\n",
    "print(liver_df.info())\n",
    "\n",
    "# check that only the previously NaN rows have been changed\n",
    "print(raw_df.head(5))\n",
    "print(liver_df.head(5))\n",
    "print(raw_df.iloc[[209, 241, 253, 312],:])\n",
    "print(liver_df.iloc[[209, 241, 253, 312],:])"
   ]
  },
  {
   "cell_type": "code",
   "execution_count": 7,
   "metadata": {},
   "outputs": [
    {
     "data": {
      "text/plain": [
       "13"
      ]
     },
     "execution_count": 7,
     "metadata": {},
     "output_type": "execute_result"
    }
   ],
   "source": [
    "# check for duplicate rows\n",
    "liver_df.duplicated().sum()"
   ]
  },
  {
   "cell_type": "markdown",
   "metadata": {},
   "source": [
    "___\n",
    "## Duplicate Rows\n",
    "\n",
    "There are 13 duplicate rows in the data set. Unfortunately, there is no column giving a unique identifier for each patient, so there is no way to determine whether these rows are actually duplicated, or if they refer to multiple patients who happened to have exactly the same measures along all the variables. Because of this, I will elect to trust the original data set and include the duplicate rows.\n",
    "___"
   ]
  },
  {
   "cell_type": "code",
   "execution_count": 13,
   "metadata": {},
   "outputs": [
    {
     "data": {
      "image/png": "[encoded data removed]",
      "text/plain": [
       "<matplotlib.figure.Figure at 0x19f92c9d4e0>"
      ]
     },
     "metadata": {},
     "output_type": "display_data"
    },
    {
     "data": {
      "text/plain": [
       "<matplotlib.figure.Figure at 0x19f93dadef0>"
      ]
     },
     "metadata": {},
     "output_type": "display_data"
    }
   ],
   "source": [
    "#check for outliers\n",
    "liver_df.boxplot('age', by='group')\n",
    "plt.xticks(rotation=45)\n",
    "plt.show()\n",
    "plt.gcf().clear()"
   ]
  },
  {
   "cell_type": "code",
   "execution_count": 24,
   "metadata": {},
   "outputs": [
    {
     "data": {
      "image/png": "[encoded data removed]",
      "text/plain": [
       "<matplotlib.figure.Figure at 0x19f92b67fd0>"
      ]
     },
     "metadata": {},
     "output_type": "display_data"
    },
    {
     "data": {
      "text/plain": [
       "<matplotlib.figure.Figure at 0x19f92cc7550>"
      ]
     },
     "metadata": {},
     "output_type": "display_data"
    }
   ],
   "source": [
    "liver_df.boxplot('total bili', by='group')\n",
    "plt.xticks(rotation=45)\n",
    "plt.show()\n",
    "plt.gcf().clear()"
   ]
  },
  {
   "cell_type": "code",
   "execution_count": 15,
   "metadata": {},
   "outputs": [
    {
     "data": {
      "image/png": "[encoded data removed]",
      "text/plain": [
       "<matplotlib.figure.Figure at 0x19f93dcc978>"
      ]
     },
     "metadata": {},
     "output_type": "display_data"
    },
    {
     "data": {
      "text/plain": [
       "<matplotlib.figure.Figure at 0x19f93d7b320>"
      ]
     },
     "metadata": {},
     "output_type": "display_data"
    }
   ],
   "source": [
    "liver_df.boxplot('direct bili', by='group')\n",
    "plt.xticks(rotation=45)\n",
    "plt.show()\n",
    "plt.gcf().clear()"
   ]
  },
  {
   "cell_type": "code",
   "execution_count": 26,
   "metadata": {},
   "outputs": [
    {
     "data": {
      "image/png": "[encoded data removed]",
      "text/plain": [
       "<matplotlib.figure.Figure at 0x19f93e4a390>"
      ]
     },
     "metadata": {},
     "output_type": "display_data"
    },
    {
     "data": {
      "text/plain": [
       "<matplotlib.figure.Figure at 0x19f929312b0>"
      ]
     },
     "metadata": {},
     "output_type": "display_data"
    }
   ],
   "source": [
    "liver_df.boxplot(['ALP','ALT'], by='group', layout=(1,2))\n",
    "plt.xticks(rotation=45)\n",
    "plt.show()\n",
    "plt.gcf().clear()"
   ]
  },
  {
   "cell_type": "code",
   "execution_count": 25,
   "metadata": {},
   "outputs": [
    {
     "data": {
      "image/png": "[encoded data removed]",
      "text/plain": [
       "<matplotlib.figure.Figure at 0x19f92b67c50>"
      ]
     },
     "metadata": {},
     "output_type": "display_data"
    },
    {
     "data": {
      "text/plain": [
       "<matplotlib.figure.Figure at 0x19f93e32828>"
      ]
     },
     "metadata": {},
     "output_type": "display_data"
    }
   ],
   "source": [
    "liver_df.boxplot('AST', by='group')\n",
    "plt.xticks(rotation=45)\n",
    "plt.show()\n",
    "plt.gcf().clear()"
   ]
  },
  {
   "cell_type": "code",
   "execution_count": 27,
   "metadata": {},
   "outputs": [
    {
     "data": {
      "image/png": "[encoded data removed]",
      "text/plain": [
       "<matplotlib.figure.Figure at 0x19f92b168d0>"
      ]
     },
     "metadata": {},
     "output_type": "display_data"
    },
    {
     "data": {
      "text/plain": [
       "<matplotlib.figure.Figure at 0x19f92aadda0>"
      ]
     },
     "metadata": {},
     "output_type": "display_data"
    }
   ],
   "source": [
    "liver_df.boxplot('total protein', by='group')\n",
    "plt.xticks(rotation=45)\n",
    "plt.show()\n",
    "plt.gcf().clear()"
   ]
  },
  {
   "cell_type": "code",
   "execution_count": 28,
   "metadata": {},
   "outputs": [
    {
     "data": {
      "image/png": "[encoded data removed]",
      "text/plain": [
       "<matplotlib.figure.Figure at 0x19f929311d0>"
      ]
     },
     "metadata": {},
     "output_type": "display_data"
    },
    {
     "data": {
      "text/plain": [
       "<matplotlib.figure.Figure at 0x19f929ffeb8>"
      ]
     },
     "metadata": {},
     "output_type": "display_data"
    }
   ],
   "source": [
    "liver_df.boxplot('albumin', by='group')\n",
    "plt.xticks(rotation=45)\n",
    "plt.show()\n",
    "plt.gcf().clear()"
   ]
  },
  {
   "cell_type": "code",
   "execution_count": 29,
   "metadata": {},
   "outputs": [
    {
     "data": {
      "image/png": "[encoded data removed]",
      "text/plain": [
       "<matplotlib.figure.Figure at 0x19f92c247f0>"
      ]
     },
     "metadata": {},
     "output_type": "display_data"
    },
    {
     "data": {
      "text/plain": [
       "<matplotlib.figure.Figure at 0x19f929ffdd8>"
      ]
     },
     "metadata": {},
     "output_type": "display_data"
    }
   ],
   "source": [
    "liver_df.boxplot('a-g ratio', by='group')\n",
    "plt.xticks(rotation=45)\n",
    "plt.show()\n",
    "plt.gcf().clear()"
   ]
  },
  {
   "cell_type": "markdown",
   "metadata": {},
   "source": [
    "___\n",
    "## Outliers\n",
    "\n",
    "A significant amount of outliers are present in the total bilirubin, direct bilirubin, ALP, AST, and ALT columns. While this might be alarming in other types of data, the presence of outliers in these measures is not surprising, and is in fact expected in data on liver disease. This is because these measures are of molecules that are normally kept at low concentrations in the blood. When the liver becomes damaged, these measures can rise by orders of magnitude, because there is a failure in the body's ability to keep them low. In addition, the scale of the increase in certain markers is used by doctors to predict what kind of liver disease is present. For example, an ALT score in the 100-200 range might indicate alcoholic or fatty liver, while a measure in the thousands could point to viral hepatitis or poisoning.\n",
    "\n",
    "A lesser amount of outliers are present in total protein, albumin, and a-g ratio. It is not clear what justification could be made for removing them, and the outliers are not dramatically larger or smaller in these fields, as are the outliers for bilirubin and the liver enzymes. \n",
    "\n",
    "For these reasons, I believe it is best to include all outliers in the data set.\n",
    "___"
   ]
  },
  {
   "cell_type": "code",
   "execution_count": null,
   "metadata": {},
   "outputs": [],
   "source": []
  }
 ],
 "metadata": {
  "kernelspec": {
   "display_name": "Python 3",
   "language": "python",
   "name": "python3"
  },
  "language_info": {
   "codemirror_mode": {
    "name": "ipython",
    "version": 3
   },
   "file_extension": ".py",
   "mimetype": "text/x-python",
   "name": "python",
   "nbconvert_exporter": "python",
   "pygments_lexer": "ipython3",
   "version": "3.6.4"
  }
 },
 "nbformat": 4,
 "nbformat_minor": 2
}
