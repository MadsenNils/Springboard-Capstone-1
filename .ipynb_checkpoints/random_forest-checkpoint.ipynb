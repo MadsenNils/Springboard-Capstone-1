{
 "cells": [
  {
   "cell_type": "code",
   "execution_count": 1,
   "metadata": {},
   "outputs": [],
   "source": [
    "import numpy as np\n",
    "import pandas as pd\n",
    "import matplotlib.pyplot as plt\n",
    "from sklearn.ensemble import RandomForestClassifier\n",
    "from sklearn.model_selection import train_test_split, cross_val_score\n",
    "from yellowbrick.classifier import ConfusionMatrix, ClassBalance\n",
    "from yellowbrick.classifier.rocauc import ROCAUC"
   ]
  },
  {
   "cell_type": "code",
   "execution_count": 2,
   "metadata": {},
   "outputs": [
    {
     "name": "stdout",
     "output_type": "stream",
     "text": [
      "<class 'pandas.core.frame.DataFrame'>\n",
      "Int64Index: 583 entries, 0 to 582\n",
      "Data columns (total 11 columns):\n",
      "age              583 non-null int64\n",
      "sex              583 non-null object\n",
      "total bili       583 non-null float64\n",
      "direct bili      583 non-null float64\n",
      "ALP              583 non-null int64\n",
      "ALT              583 non-null int64\n",
      "AST              583 non-null int64\n",
      "total protein    583 non-null float64\n",
      "albumin          583 non-null float64\n",
      "a-g ratio        583 non-null float64\n",
      "liver disease    583 non-null bool\n",
      "dtypes: bool(1), float64(5), int64(4), object(1)\n",
      "memory usage: 50.7+ KB\n",
      "None\n"
     ]
    },
    {
     "data": {
      "text/html": [
       "<div>\n",
       "<style scoped>\n",
       "    .dataframe tbody tr th:only-of-type {\n",
       "        vertical-align: middle;\n",
       "    }\n",
       "\n",
       "    .dataframe tbody tr th {\n",
       "        vertical-align: top;\n",
       "    }\n",
       "\n",
       "    .dataframe thead th {\n",
       "        text-align: right;\n",
       "    }\n",
       "</style>\n",
       "<table border=\"1\" class=\"dataframe\">\n",
       "  <thead>\n",
       "    <tr style=\"text-align: right;\">\n",
       "      <th></th>\n",
       "      <th>age</th>\n",
       "      <th>sex</th>\n",
       "      <th>total bili</th>\n",
       "      <th>direct bili</th>\n",
       "      <th>ALP</th>\n",
       "      <th>ALT</th>\n",
       "      <th>AST</th>\n",
       "      <th>total protein</th>\n",
       "      <th>albumin</th>\n",
       "      <th>a-g ratio</th>\n",
       "      <th>liver disease</th>\n",
       "    </tr>\n",
       "  </thead>\n",
       "  <tbody>\n",
       "    <tr>\n",
       "      <th>0</th>\n",
       "      <td>65</td>\n",
       "      <td>Female</td>\n",
       "      <td>0.7</td>\n",
       "      <td>0.1</td>\n",
       "      <td>187</td>\n",
       "      <td>16</td>\n",
       "      <td>18</td>\n",
       "      <td>6.8</td>\n",
       "      <td>3.3</td>\n",
       "      <td>0.90</td>\n",
       "      <td>True</td>\n",
       "    </tr>\n",
       "    <tr>\n",
       "      <th>1</th>\n",
       "      <td>62</td>\n",
       "      <td>Male</td>\n",
       "      <td>10.9</td>\n",
       "      <td>5.5</td>\n",
       "      <td>699</td>\n",
       "      <td>64</td>\n",
       "      <td>100</td>\n",
       "      <td>7.5</td>\n",
       "      <td>3.2</td>\n",
       "      <td>0.74</td>\n",
       "      <td>True</td>\n",
       "    </tr>\n",
       "    <tr>\n",
       "      <th>2</th>\n",
       "      <td>62</td>\n",
       "      <td>Male</td>\n",
       "      <td>7.3</td>\n",
       "      <td>4.1</td>\n",
       "      <td>490</td>\n",
       "      <td>60</td>\n",
       "      <td>68</td>\n",
       "      <td>7.0</td>\n",
       "      <td>3.3</td>\n",
       "      <td>0.89</td>\n",
       "      <td>True</td>\n",
       "    </tr>\n",
       "    <tr>\n",
       "      <th>3</th>\n",
       "      <td>58</td>\n",
       "      <td>Male</td>\n",
       "      <td>1.0</td>\n",
       "      <td>0.4</td>\n",
       "      <td>182</td>\n",
       "      <td>14</td>\n",
       "      <td>20</td>\n",
       "      <td>6.8</td>\n",
       "      <td>3.4</td>\n",
       "      <td>1.00</td>\n",
       "      <td>True</td>\n",
       "    </tr>\n",
       "    <tr>\n",
       "      <th>4</th>\n",
       "      <td>72</td>\n",
       "      <td>Male</td>\n",
       "      <td>3.9</td>\n",
       "      <td>2.0</td>\n",
       "      <td>195</td>\n",
       "      <td>27</td>\n",
       "      <td>59</td>\n",
       "      <td>7.3</td>\n",
       "      <td>2.4</td>\n",
       "      <td>0.40</td>\n",
       "      <td>True</td>\n",
       "    </tr>\n",
       "    <tr>\n",
       "      <th>5</th>\n",
       "      <td>46</td>\n",
       "      <td>Male</td>\n",
       "      <td>1.8</td>\n",
       "      <td>0.7</td>\n",
       "      <td>208</td>\n",
       "      <td>19</td>\n",
       "      <td>14</td>\n",
       "      <td>7.6</td>\n",
       "      <td>4.4</td>\n",
       "      <td>1.30</td>\n",
       "      <td>True</td>\n",
       "    </tr>\n",
       "    <tr>\n",
       "      <th>6</th>\n",
       "      <td>26</td>\n",
       "      <td>Female</td>\n",
       "      <td>0.9</td>\n",
       "      <td>0.2</td>\n",
       "      <td>154</td>\n",
       "      <td>16</td>\n",
       "      <td>12</td>\n",
       "      <td>7.0</td>\n",
       "      <td>3.5</td>\n",
       "      <td>1.00</td>\n",
       "      <td>True</td>\n",
       "    </tr>\n",
       "    <tr>\n",
       "      <th>7</th>\n",
       "      <td>29</td>\n",
       "      <td>Female</td>\n",
       "      <td>0.9</td>\n",
       "      <td>0.3</td>\n",
       "      <td>202</td>\n",
       "      <td>14</td>\n",
       "      <td>11</td>\n",
       "      <td>6.7</td>\n",
       "      <td>3.6</td>\n",
       "      <td>1.10</td>\n",
       "      <td>True</td>\n",
       "    </tr>\n",
       "    <tr>\n",
       "      <th>8</th>\n",
       "      <td>17</td>\n",
       "      <td>Male</td>\n",
       "      <td>0.9</td>\n",
       "      <td>0.3</td>\n",
       "      <td>202</td>\n",
       "      <td>22</td>\n",
       "      <td>19</td>\n",
       "      <td>7.4</td>\n",
       "      <td>4.1</td>\n",
       "      <td>1.20</td>\n",
       "      <td>False</td>\n",
       "    </tr>\n",
       "    <tr>\n",
       "      <th>9</th>\n",
       "      <td>55</td>\n",
       "      <td>Male</td>\n",
       "      <td>0.7</td>\n",
       "      <td>0.2</td>\n",
       "      <td>290</td>\n",
       "      <td>53</td>\n",
       "      <td>58</td>\n",
       "      <td>6.8</td>\n",
       "      <td>3.4</td>\n",
       "      <td>1.00</td>\n",
       "      <td>True</td>\n",
       "    </tr>\n",
       "  </tbody>\n",
       "</table>\n",
       "</div>"
      ],
      "text/plain": [
       "   age     sex  total bili  direct bili  ALP  ALT  AST  total protein  \\\n",
       "0   65  Female         0.7          0.1  187   16   18            6.8   \n",
       "1   62    Male        10.9          5.5  699   64  100            7.5   \n",
       "2   62    Male         7.3          4.1  490   60   68            7.0   \n",
       "3   58    Male         1.0          0.4  182   14   20            6.8   \n",
       "4   72    Male         3.9          2.0  195   27   59            7.3   \n",
       "5   46    Male         1.8          0.7  208   19   14            7.6   \n",
       "6   26  Female         0.9          0.2  154   16   12            7.0   \n",
       "7   29  Female         0.9          0.3  202   14   11            6.7   \n",
       "8   17    Male         0.9          0.3  202   22   19            7.4   \n",
       "9   55    Male         0.7          0.2  290   53   58            6.8   \n",
       "\n",
       "   albumin  a-g ratio  liver disease  \n",
       "0      3.3       0.90           True  \n",
       "1      3.2       0.74           True  \n",
       "2      3.3       0.89           True  \n",
       "3      3.4       1.00           True  \n",
       "4      2.4       0.40           True  \n",
       "5      4.4       1.30           True  \n",
       "6      3.5       1.00           True  \n",
       "7      3.6       1.10           True  \n",
       "8      4.1       1.20          False  \n",
       "9      3.4       1.00           True  "
      ]
     },
     "execution_count": 2,
     "metadata": {},
     "output_type": "execute_result"
    }
   ],
   "source": [
    "# import cleaned data\n",
    "liver_df = pd.read_csv('indian_liver_dataset_clean.csv', index_col=0)\n",
    "print(liver_df.info())\n",
    "liver_df.head(10)"
   ]
  },
  {
   "cell_type": "code",
   "execution_count": 3,
   "metadata": {},
   "outputs": [
    {
     "data": {
      "text/html": [
       "<div>\n",
       "<style scoped>\n",
       "    .dataframe tbody tr th:only-of-type {\n",
       "        vertical-align: middle;\n",
       "    }\n",
       "\n",
       "    .dataframe tbody tr th {\n",
       "        vertical-align: top;\n",
       "    }\n",
       "\n",
       "    .dataframe thead th {\n",
       "        text-align: right;\n",
       "    }\n",
       "</style>\n",
       "<table border=\"1\" class=\"dataframe\">\n",
       "  <thead>\n",
       "    <tr style=\"text-align: right;\">\n",
       "      <th></th>\n",
       "      <th>age</th>\n",
       "      <th>sex</th>\n",
       "      <th>total bili</th>\n",
       "      <th>direct bili</th>\n",
       "      <th>ALP</th>\n",
       "      <th>ALT</th>\n",
       "      <th>AST</th>\n",
       "      <th>total protein</th>\n",
       "      <th>albumin</th>\n",
       "      <th>a-g ratio</th>\n",
       "      <th>liver disease</th>\n",
       "    </tr>\n",
       "  </thead>\n",
       "  <tbody>\n",
       "    <tr>\n",
       "      <th>0</th>\n",
       "      <td>65</td>\n",
       "      <td>0</td>\n",
       "      <td>0.7</td>\n",
       "      <td>0.1</td>\n",
       "      <td>187</td>\n",
       "      <td>16</td>\n",
       "      <td>18</td>\n",
       "      <td>6.8</td>\n",
       "      <td>3.3</td>\n",
       "      <td>0.90</td>\n",
       "      <td>1</td>\n",
       "    </tr>\n",
       "    <tr>\n",
       "      <th>1</th>\n",
       "      <td>62</td>\n",
       "      <td>1</td>\n",
       "      <td>10.9</td>\n",
       "      <td>5.5</td>\n",
       "      <td>699</td>\n",
       "      <td>64</td>\n",
       "      <td>100</td>\n",
       "      <td>7.5</td>\n",
       "      <td>3.2</td>\n",
       "      <td>0.74</td>\n",
       "      <td>1</td>\n",
       "    </tr>\n",
       "    <tr>\n",
       "      <th>2</th>\n",
       "      <td>62</td>\n",
       "      <td>1</td>\n",
       "      <td>7.3</td>\n",
       "      <td>4.1</td>\n",
       "      <td>490</td>\n",
       "      <td>60</td>\n",
       "      <td>68</td>\n",
       "      <td>7.0</td>\n",
       "      <td>3.3</td>\n",
       "      <td>0.89</td>\n",
       "      <td>1</td>\n",
       "    </tr>\n",
       "    <tr>\n",
       "      <th>3</th>\n",
       "      <td>58</td>\n",
       "      <td>1</td>\n",
       "      <td>1.0</td>\n",
       "      <td>0.4</td>\n",
       "      <td>182</td>\n",
       "      <td>14</td>\n",
       "      <td>20</td>\n",
       "      <td>6.8</td>\n",
       "      <td>3.4</td>\n",
       "      <td>1.00</td>\n",
       "      <td>1</td>\n",
       "    </tr>\n",
       "    <tr>\n",
       "      <th>4</th>\n",
       "      <td>72</td>\n",
       "      <td>1</td>\n",
       "      <td>3.9</td>\n",
       "      <td>2.0</td>\n",
       "      <td>195</td>\n",
       "      <td>27</td>\n",
       "      <td>59</td>\n",
       "      <td>7.3</td>\n",
       "      <td>2.4</td>\n",
       "      <td>0.40</td>\n",
       "      <td>1</td>\n",
       "    </tr>\n",
       "    <tr>\n",
       "      <th>5</th>\n",
       "      <td>46</td>\n",
       "      <td>1</td>\n",
       "      <td>1.8</td>\n",
       "      <td>0.7</td>\n",
       "      <td>208</td>\n",
       "      <td>19</td>\n",
       "      <td>14</td>\n",
       "      <td>7.6</td>\n",
       "      <td>4.4</td>\n",
       "      <td>1.30</td>\n",
       "      <td>1</td>\n",
       "    </tr>\n",
       "    <tr>\n",
       "      <th>6</th>\n",
       "      <td>26</td>\n",
       "      <td>0</td>\n",
       "      <td>0.9</td>\n",
       "      <td>0.2</td>\n",
       "      <td>154</td>\n",
       "      <td>16</td>\n",
       "      <td>12</td>\n",
       "      <td>7.0</td>\n",
       "      <td>3.5</td>\n",
       "      <td>1.00</td>\n",
       "      <td>1</td>\n",
       "    </tr>\n",
       "    <tr>\n",
       "      <th>7</th>\n",
       "      <td>29</td>\n",
       "      <td>0</td>\n",
       "      <td>0.9</td>\n",
       "      <td>0.3</td>\n",
       "      <td>202</td>\n",
       "      <td>14</td>\n",
       "      <td>11</td>\n",
       "      <td>6.7</td>\n",
       "      <td>3.6</td>\n",
       "      <td>1.10</td>\n",
       "      <td>1</td>\n",
       "    </tr>\n",
       "    <tr>\n",
       "      <th>8</th>\n",
       "      <td>17</td>\n",
       "      <td>1</td>\n",
       "      <td>0.9</td>\n",
       "      <td>0.3</td>\n",
       "      <td>202</td>\n",
       "      <td>22</td>\n",
       "      <td>19</td>\n",
       "      <td>7.4</td>\n",
       "      <td>4.1</td>\n",
       "      <td>1.20</td>\n",
       "      <td>0</td>\n",
       "    </tr>\n",
       "    <tr>\n",
       "      <th>9</th>\n",
       "      <td>55</td>\n",
       "      <td>1</td>\n",
       "      <td>0.7</td>\n",
       "      <td>0.2</td>\n",
       "      <td>290</td>\n",
       "      <td>53</td>\n",
       "      <td>58</td>\n",
       "      <td>6.8</td>\n",
       "      <td>3.4</td>\n",
       "      <td>1.00</td>\n",
       "      <td>1</td>\n",
       "    </tr>\n",
       "  </tbody>\n",
       "</table>\n",
       "</div>"
      ],
      "text/plain": [
       "   age  sex  total bili  direct bili  ALP  ALT  AST  total protein  albumin  \\\n",
       "0   65    0         0.7          0.1  187   16   18            6.8      3.3   \n",
       "1   62    1        10.9          5.5  699   64  100            7.5      3.2   \n",
       "2   62    1         7.3          4.1  490   60   68            7.0      3.3   \n",
       "3   58    1         1.0          0.4  182   14   20            6.8      3.4   \n",
       "4   72    1         3.9          2.0  195   27   59            7.3      2.4   \n",
       "5   46    1         1.8          0.7  208   19   14            7.6      4.4   \n",
       "6   26    0         0.9          0.2  154   16   12            7.0      3.5   \n",
       "7   29    0         0.9          0.3  202   14   11            6.7      3.6   \n",
       "8   17    1         0.9          0.3  202   22   19            7.4      4.1   \n",
       "9   55    1         0.7          0.2  290   53   58            6.8      3.4   \n",
       "\n",
       "   a-g ratio  liver disease  \n",
       "0       0.90              1  \n",
       "1       0.74              1  \n",
       "2       0.89              1  \n",
       "3       1.00              1  \n",
       "4       0.40              1  \n",
       "5       1.30              1  \n",
       "6       1.00              1  \n",
       "7       1.10              1  \n",
       "8       1.20              0  \n",
       "9       1.00              1  "
      ]
     },
     "execution_count": 3,
     "metadata": {},
     "output_type": "execute_result"
    }
   ],
   "source": [
    "# convert variables to numeric form\n",
    "liver_df.sex = liver_df.sex.map({'Male': 1, 'Female': 0})\n",
    "liver_df['liver disease'] = liver_df['liver disease'].astype('int')\n",
    "liver_df.head(10)"
   ]
  },
  {
   "cell_type": "code",
<<<<<<< HEAD
   "execution_count": 6,
   "metadata": {},
   "outputs": [],
   "source": [
    "# split into train and test without reference to group\n",
    "seed = 1204\n",
    "test_prop = 0.2\n",
    "\n",
=======
   "execution_count": 4,
   "metadata": {},
   "outputs": [],
   "source": [
    "## separate diseased and undiseased subjects\n",
    "# group_1 = liver_df[liver_df['liver disease'] == 1]\n",
    "# group_0 = liver_df[liver_df['liver disease'] == 0]\n",
    "\n",
    "# randomly divide data set into training and test sets\n",
    "seed = 1204\n",
    "test_prop = 0.2\n",
    "\n",
    "# np.random.seed = seed\n",
    "# mask_1 = np.random.rand(len(group_1)) < (1 - test_prop)\n",
    "# np.random_seed = seed\n",
    "# mask_0 = np.random.rand(len(group_0)) < (1 - test_prop)\n",
    "\n",
    "# group_1_train = group_1[mask_1]\n",
    "# group_1_test = group_1[~mask_1]\n",
    "\n",
    "# group_0_train = group_0[mask_0]\n",
    "# group_0_test = group_0[~mask_0]\n",
    "\n",
    "## rejoin groups into training and test data sets\n",
    "# liver_train = pd.concat([group_1_train, group_0_train])\n",
    "# liver_test = pd.concat([group_1_test, group_0_test])"
   ]
  },
  {
   "cell_type": "code",
   "execution_count": 5,
   "metadata": {},
   "outputs": [],
   "source": [
    "# create variable and outcome dataframes\n",
    "# X_train = liver_train.copy()\n",
    "# y_train = X_train.pop('liver disease')\n",
    "\n",
    "# X_test = liver_test.copy()\n",
    "# y_test = X_test.pop('liver disease')"
   ]
  },
  {
   "cell_type": "code",
   "execution_count": 6,
   "metadata": {},
   "outputs": [],
   "source": [
    "# split into train and test without reference to group\n",
>>>>>>> 48bd9da661163899201e9cca68f7a0788e80b06a
    "X = liver_df.copy()\n",
    "y = X.pop('liver disease')\n",
    "X_train, X_test, y_train, y_test = train_test_split(X, y, random_state=seed, test_size=test_prop)"
   ]
  },
  {
   "cell_type": "code",
   "execution_count": 7,
   "metadata": {},
   "outputs": [
    {
     "data": {
      "text/plain": [
       "RandomForestClassifier(bootstrap=True, class_weight=None, criterion='gini',\n",
       "            max_depth=None, max_features='auto', max_leaf_nodes=None,\n",
       "            min_impurity_decrease=0.0, min_impurity_split=None,\n",
       "            min_samples_leaf=1, min_samples_split=2,\n",
       "            min_weight_fraction_leaf=0.0, n_estimators=1000, n_jobs=-1,\n",
       "            oob_score=True, random_state=1204, verbose=0, warm_start=False)"
      ]
     },
     "execution_count": 7,
     "metadata": {},
     "output_type": "execute_result"
    }
   ],
   "source": [
    "# create and run model\n",
    "model = RandomForestClassifier(n_estimators=1000,\n",
    "                               max_features='auto',\n",
    "                               max_depth=None,\n",
    "                               oob_score=True,\n",
    "                               n_jobs=-1,\n",
    "                               random_state=seed)\n",
    "model.fit(X_train, y_train)"
   ]
  },
  {
   "cell_type": "code",
   "execution_count": 8,
   "metadata": {},
   "outputs": [
    {
     "data": {
      "text/plain": [
<<<<<<< HEAD
       "<matplotlib.axes._subplots.AxesSubplot at 0xb2b2b70>"
=======
       "<matplotlib.axes._subplots.AxesSubplot at 0x1588682c5f8>"
>>>>>>> 48bd9da661163899201e9cca68f7a0788e80b06a
      ]
     },
     "execution_count": 8,
     "metadata": {},
     "output_type": "execute_result"
    },
    {
     "data": {
      "image/png": "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\n",
      "text/plain": [
<<<<<<< HEAD
       "<matplotlib.figure.Figure at 0xb2a84e0>"
=======
       "<matplotlib.figure.Figure at 0x1588682c978>"
>>>>>>> 48bd9da661163899201e9cca68f7a0788e80b06a
      ]
     },
     "metadata": {},
     "output_type": "display_data"
    }
   ],
   "source": [
    "importances = pd.Series(model.feature_importances_, index=X_train.columns)\n",
    "importances.sort_values(inplace=True)\n",
    "plt.title('Variable Importance')\n",
    "importances.plot(kind='barh')"
   ]
  },
  {
   "cell_type": "code",
   "execution_count": 9,
   "metadata": {},
   "outputs": [
    {
     "data": {
      "image/png": "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\n",
      "text/plain": [
<<<<<<< HEAD
       "<matplotlib.figure.Figure at 0xb328780>"
=======
       "<matplotlib.figure.Figure at 0x15887b9d3c8>"
>>>>>>> 48bd9da661163899201e9cca68f7a0788e80b06a
      ]
     },
     "metadata": {},
     "output_type": "display_data"
    }
   ],
   "source": [
    "confusion = ConfusionMatrix(model, classes=[0,1])\n",
    "confusion.score(X_test, y_test)\n",
    "confusion.poof()"
   ]
  },
  {
   "cell_type": "code",
   "execution_count": 10,
   "metadata": {},
   "outputs": [
    {
     "data": {
      "image/png": "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\n",
      "text/plain": [
<<<<<<< HEAD
       "<matplotlib.figure.Figure at 0xb4fa5c0>"
=======
       "<matplotlib.figure.Figure at 0x15887c1e518>"
>>>>>>> 48bd9da661163899201e9cca68f7a0788e80b06a
      ]
     },
     "metadata": {},
     "output_type": "display_data"
    }
   ],
   "source": [
    "balance = ClassBalance(model, classes=[0,1])\n",
    "plt.title('Class Balance')\n",
    "balance.score(X_test, y_test)\n",
    "balance.poof()"
   ]
  },
  {
   "cell_type": "code",
   "execution_count": 11,
   "metadata": {},
   "outputs": [
    {
     "data": {
      "image/png": "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\n",
      "text/plain": [
<<<<<<< HEAD
       "<matplotlib.figure.Figure at 0xb564e10>"
=======
       "<matplotlib.figure.Figure at 0x15887befda0>"
>>>>>>> 48bd9da661163899201e9cca68f7a0788e80b06a
      ]
     },
     "metadata": {},
     "output_type": "display_data"
    }
   ],
   "source": [
    "# ROC curve\n",
    "roc_curve = ROCAUC(model, classes=[0,1])\n",
    "roc_curve.score(X_test, y_test)\n",
    "roc_curve.poof()"
   ]
  },
  {
<<<<<<< HEAD
   "cell_type": "markdown",
   "metadata": {},
   "source": [
    "___\n",
    "## Parameter Tuning\n",
    "\n",
    "Now I will attempt to find more optimal parameters for the model. Because I have a sufficiently powerful computer for this task, I will use an exhaustive grid search strategy. For larger models with more features or observations, a random grid search may be more appropriate to limit computational expense.\n",
    "___"
=======
   "cell_type": "code",
   "execution_count": 12,
   "metadata": {},
   "outputs": [],
   "source": [
    "# # optimize number of trees\n",
    "# estimators_options = [10, 50, 100, 200, 300, 400, 500, 600, 700, 800, 900, 1000]\n",
    "\n",
    "# for option in estimators_options:\n",
    "#     model = RandomForestClassifier(n_estimators=option,\n",
    "#                                max_features='auto',\n",
    "#                                max_depth=None,\n",
    "#                                n_jobs=-1,\n",
    "#                                random_state=seed)\n",
    "#     auc = cross_val_score(model, X, y, cv=10, scoring='roc_auc').mean()\n",
    "#     print('{} trees: '.format(option), auc)\n",
    "    \n",
    "# # 500 trees seems to be the maximum valuable number of trees, with little improvement above 300"
>>>>>>> 48bd9da661163899201e9cca68f7a0788e80b06a
   ]
  },
  {
   "cell_type": "code",
<<<<<<< HEAD
   "execution_count": 28,
   "metadata": {},
   "outputs": [
    {
     "data": {
      "text/plain": [
       "GridSearchCV(cv=10, error_score='raise',\n",
       "       estimator=RandomForestClassifier(bootstrap=True, class_weight=None, criterion='gini',\n",
       "            max_depth=None, max_features='auto', max_leaf_nodes=None,\n",
       "            min_impurity_decrease=0.0, min_impurity_split=None,\n",
       "            min_samples_leaf=1, min_samples_split=2,\n",
       "            min_weight_fraction_leaf=0.0, n_estimators=200, n_jobs=1,\n",
       "            oob_score=False, random_state=None, verbose=0,\n",
       "            warm_start=False),\n",
       "       fit_params=None, iid=True, n_jobs=7,\n",
       "       param_grid={'max_features': ['auto', 'sqrt', 'log2', None, 2, 4, 6, 8, 10], 'max_depth': [None, 10, 20, 30, 40], 'min_samples_leaf': [1, 2, 3, 4, 5], 'min_samples_split': [2, 4, 6, 8, 10]},\n",
       "       pre_dispatch='2*n_jobs', refit=True, return_train_score='warn',\n",
       "       scoring='roc_auc', verbose=0)"
      ]
     },
     "execution_count": 28,
     "metadata": {},
     "output_type": "execute_result"
    }
   ],
   "source": [
    "# # WARNING: this cell is computationally intensive - do not rerun\n",
    "# # optimize model parameters using exhaustive grid search\n",
    "# from sklearn.model_selection import GridSearchCV\n",
    "\n",
    "# features_options = ['auto', 'sqrt', 'log2', None, 2, 4, 6, 8, 10]\n",
    "# depth_options = [None, 10, 20, 30, 40]\n",
    "# leaf_options = [1, 2, 3, 4, 5]\n",
    "# split_options = [2, 4, 6, 8, 10]\n",
    "\n",
    "# param_grid = dict(max_features=features_options, max_depth=depth_options, min_samples_leaf=leaf_options, min_samples_split=split_options)\n",
    "\n",
    "# random_forest = RandomForestClassifier(n_estimators=200)\n",
    "\n",
    "# grid = GridSearchCV(random_forest, param_grid, scoring='roc_auc', cv=10, n_jobs=7)\n",
    "\n",
    "# grid.fit(X, y)\n",
    "\n",
    "# print(grid.best_score_)\n",
    "# grid.best_estimator_"
=======
   "execution_count": 13,
   "metadata": {},
   "outputs": [],
   "source": [
    "# # optimize max features\n",
    "# features_options = ['auto', 'sqrt', 'log2', None, 1, 2, 3, 4, 5, 6, 7, 8, 9, 10]\n",
    "\n",
    "# for option in features_options:\n",
    "#     model = RandomForestClassifier(n_estimators=500,\n",
    "#                                max_features=option,\n",
    "#                                max_depth=None,\n",
    "#                                n_jobs=-1,\n",
    "#                                random_state=seed)\n",
    "#     auc = cross_val_score(model, X, y, cv=10, scoring='roc_auc').mean()\n",
    "#     print('{} features: '.format(option), auc)\n",
    "\n",
    "# # 1 feature seems to be optimal"
>>>>>>> 48bd9da661163899201e9cca68f7a0788e80b06a
   ]
  },
  {
   "cell_type": "code",
<<<<<<< HEAD
   "execution_count": 33,
   "metadata": {},
   "outputs": [
    {
     "name": "stdout",
     "output_type": "stream",
     "text": [
      "0.7444693749984619\n"
     ]
    },
    {
     "data": {
      "text/plain": [
       "RandomForestClassifier(bootstrap=True, class_weight=None, criterion='gini',\n",
       "            max_depth=20, max_features=2, max_leaf_nodes=None,\n",
       "            min_impurity_decrease=0.0, min_impurity_split=None,\n",
       "            min_samples_leaf=4, min_samples_split=18,\n",
       "            min_weight_fraction_leaf=0.0, n_estimators=200, n_jobs=1,\n",
       "            oob_score=False, random_state=None, verbose=0,\n",
       "            warm_start=False)"
      ]
     },
     "execution_count": 33,
     "metadata": {},
     "output_type": "execute_result"
    }
   ],
   "source": [
    "# best parameters after first optimization pass\n",
    "model = RandomForestClassifier(n_estimators=200,\n",
    "                               max_features=2,\n",
    "                               max_depth=20,\n",
    "                               min_samples_leaf=4)\n",
    "\n",
    "# run another optimization with more split options\n",
    "split_options = list(range(10, 30, 2))\n",
    "\n",
    "param_grid = dict(min_samples_split=split_options)\n",
    "\n",
    "grid = GridSearchCV(model, param_grid, scoring='roc_auc', cv=10, n_jobs=7)\n",
    "\n",
    "grid.fit(X, y)\n",
    "\n",
    "print(grid.best_score_)\n",
    "grid.best_estimator_"
=======
   "execution_count": 14,
   "metadata": {},
   "outputs": [],
   "source": [
    "# # optimize max_depth\n",
    "# depth_options = [None, 5, 10, 15, 20, 25, 30, 35, 40]\n",
    "\n",
    "# for option in depth_options:\n",
    "#     model = RandomForestClassifier(n_estimators=500,\n",
    "#                                max_features=1,\n",
    "#                                max_depth=option,\n",
    "#                                n_jobs=-1,\n",
    "#                                random_state=seed)\n",
    "#     auc = cross_val_score(model, X, y, cv=10, scoring='roc_auc').mean()\n",
    "#     print('{} depth: '.format(option), auc)\n",
    "    \n",
    "# # 5 depth seems optimal"
   ]
  },
  {
   "cell_type": "code",
   "execution_count": 15,
   "metadata": {},
   "outputs": [],
   "source": [
    "# # try different random seeds\n",
    "\n",
    "# for seed_num in range(11):\n",
    "#     model = RandomForestClassifier(n_estimators=500,\n",
    "#                                max_features=1,\n",
    "#                                max_depth=5,\n",
    "#                                n_jobs=-1)\n",
    "#     auc = cross_val_score(model, X, y, cv=10, scoring='roc_auc').mean()\n",
    "#     print('seed {}: '.format(seed_num), auc)\n",
    "    \n",
    "# # model is relatively consistent across seeds"
>>>>>>> 48bd9da661163899201e9cca68f7a0788e80b06a
   ]
  },
  {
   "cell_type": "code",
<<<<<<< HEAD
   "execution_count": 34,
   "metadata": {},
   "outputs": [
    {
     "name": "stdout",
     "output_type": "stream",
     "text": [
      "0.7466259743658162\n"
     ]
    },
    {
     "data": {
      "text/plain": [
       "RandomForestClassifier(bootstrap=True, class_weight=None, criterion='gini',\n",
       "            max_depth=20, max_features=2, max_leaf_nodes=None,\n",
       "            min_impurity_decrease=0.0, min_impurity_split=None,\n",
       "            min_samples_leaf=4, min_samples_split=10,\n",
       "            min_weight_fraction_leaf=0.0, n_estimators=200, n_jobs=1,\n",
       "            oob_score=False, random_state=None, verbose=0,\n",
       "            warm_start=False)"
      ]
     },
     "execution_count": 34,
     "metadata": {},
     "output_type": "execute_result"
    }
   ],
   "source": [
    "# no improvement seen with more samples per split, therefore proceeding with parameters from first optimization\n",
    "model = RandomForestClassifier(n_estimators=200,\n",
    "                               max_features=2,\n",
    "                               max_depth=20,\n",
    "                               min_samples_leaf=4,\n",
    "                               min_samples_split=10)\n",
    "\n",
    "# determine number of estimators to use\n",
    "estimators_options = list(range(100, 1001, 100))\n",
    "param_grid = dict(min_samples_split=split_options)\n",
    "\n",
    "grid = GridSearchCV(model, param_grid, scoring='roc_auc', cv=10, n_jobs=7)\n",
    "grid.fit(X, y)\n",
    "\n",
    "print(grid.best_score_)\n",
    "grid.best_estimator_"
=======
   "execution_count": 17,
   "metadata": {},
   "outputs": [
    {
     "ename": "KeyboardInterrupt",
     "evalue": "",
     "output_type": "error",
     "traceback": [
      "\u001b[1;31m---------------------------------------------------------------------------\u001b[0m",
      "\u001b[1;31mKeyboardInterrupt\u001b[0m                         Traceback (most recent call last)",
      "\u001b[1;32m<ipython-input-17-8b52455f767e>\u001b[0m in \u001b[0;36m<module>\u001b[1;34m()\u001b[0m\n\u001b[0;32m     12\u001b[0m \u001b[0mgrid\u001b[0m \u001b[1;33m=\u001b[0m \u001b[0mGridSearchCV\u001b[0m\u001b[1;33m(\u001b[0m\u001b[0mrandom_forest\u001b[0m\u001b[1;33m,\u001b[0m \u001b[0mparam_grid\u001b[0m\u001b[1;33m,\u001b[0m \u001b[0mscoring\u001b[0m\u001b[1;33m=\u001b[0m\u001b[1;34m'accuracy'\u001b[0m\u001b[1;33m,\u001b[0m \u001b[0mcv\u001b[0m\u001b[1;33m=\u001b[0m\u001b[1;36m10\u001b[0m\u001b[1;33m,\u001b[0m \u001b[0mn_jobs\u001b[0m\u001b[1;33m=\u001b[0m\u001b[1;33m-\u001b[0m\u001b[1;36m1\u001b[0m\u001b[1;33m)\u001b[0m\u001b[1;33m\u001b[0m\u001b[0m\n\u001b[0;32m     13\u001b[0m \u001b[1;33m\u001b[0m\u001b[0m\n\u001b[1;32m---> 14\u001b[1;33m \u001b[0mgrid\u001b[0m\u001b[1;33m.\u001b[0m\u001b[0mfit\u001b[0m\u001b[1;33m(\u001b[0m\u001b[0mX\u001b[0m\u001b[1;33m,\u001b[0m \u001b[0my\u001b[0m\u001b[1;33m)\u001b[0m\u001b[1;33m\u001b[0m\u001b[0m\n\u001b[0m",
      "\u001b[1;32m~\\Anaconda3\\lib\\site-packages\\sklearn\\model_selection\\_search.py\u001b[0m in \u001b[0;36mfit\u001b[1;34m(self, X, y, groups, **fit_params)\u001b[0m\n\u001b[0;32m    637\u001b[0m                                   error_score=self.error_score)\n\u001b[0;32m    638\u001b[0m           for parameters, (train, test) in product(candidate_params,\n\u001b[1;32m--> 639\u001b[1;33m                                                    cv.split(X, y, groups)))\n\u001b[0m\u001b[0;32m    640\u001b[0m \u001b[1;33m\u001b[0m\u001b[0m\n\u001b[0;32m    641\u001b[0m         \u001b[1;31m# if one choose to see train score, \"out\" will contain train score info\u001b[0m\u001b[1;33m\u001b[0m\u001b[1;33m\u001b[0m\u001b[0m\n",
      "\u001b[1;32m~\\Anaconda3\\lib\\site-packages\\sklearn\\externals\\joblib\\parallel.py\u001b[0m in \u001b[0;36m__call__\u001b[1;34m(self, iterable)\u001b[0m\n\u001b[0;32m    787\u001b[0m                 \u001b[1;31m# consumption.\u001b[0m\u001b[1;33m\u001b[0m\u001b[1;33m\u001b[0m\u001b[0m\n\u001b[0;32m    788\u001b[0m                 \u001b[0mself\u001b[0m\u001b[1;33m.\u001b[0m\u001b[0m_iterating\u001b[0m \u001b[1;33m=\u001b[0m \u001b[1;32mFalse\u001b[0m\u001b[1;33m\u001b[0m\u001b[0m\n\u001b[1;32m--> 789\u001b[1;33m             \u001b[0mself\u001b[0m\u001b[1;33m.\u001b[0m\u001b[0mretrieve\u001b[0m\u001b[1;33m(\u001b[0m\u001b[1;33m)\u001b[0m\u001b[1;33m\u001b[0m\u001b[0m\n\u001b[0m\u001b[0;32m    790\u001b[0m             \u001b[1;31m# Make sure that we get a last message telling us we are done\u001b[0m\u001b[1;33m\u001b[0m\u001b[1;33m\u001b[0m\u001b[0m\n\u001b[0;32m    791\u001b[0m             \u001b[0melapsed_time\u001b[0m \u001b[1;33m=\u001b[0m \u001b[0mtime\u001b[0m\u001b[1;33m.\u001b[0m\u001b[0mtime\u001b[0m\u001b[1;33m(\u001b[0m\u001b[1;33m)\u001b[0m \u001b[1;33m-\u001b[0m \u001b[0mself\u001b[0m\u001b[1;33m.\u001b[0m\u001b[0m_start_time\u001b[0m\u001b[1;33m\u001b[0m\u001b[0m\n",
      "\u001b[1;32m~\\Anaconda3\\lib\\site-packages\\sklearn\\externals\\joblib\\parallel.py\u001b[0m in \u001b[0;36mretrieve\u001b[1;34m(self)\u001b[0m\n\u001b[0;32m    697\u001b[0m             \u001b[1;32mtry\u001b[0m\u001b[1;33m:\u001b[0m\u001b[1;33m\u001b[0m\u001b[0m\n\u001b[0;32m    698\u001b[0m                 \u001b[1;32mif\u001b[0m \u001b[0mgetattr\u001b[0m\u001b[1;33m(\u001b[0m\u001b[0mself\u001b[0m\u001b[1;33m.\u001b[0m\u001b[0m_backend\u001b[0m\u001b[1;33m,\u001b[0m \u001b[1;34m'supports_timeout'\u001b[0m\u001b[1;33m,\u001b[0m \u001b[1;32mFalse\u001b[0m\u001b[1;33m)\u001b[0m\u001b[1;33m:\u001b[0m\u001b[1;33m\u001b[0m\u001b[0m\n\u001b[1;32m--> 699\u001b[1;33m                     \u001b[0mself\u001b[0m\u001b[1;33m.\u001b[0m\u001b[0m_output\u001b[0m\u001b[1;33m.\u001b[0m\u001b[0mextend\u001b[0m\u001b[1;33m(\u001b[0m\u001b[0mjob\u001b[0m\u001b[1;33m.\u001b[0m\u001b[0mget\u001b[0m\u001b[1;33m(\u001b[0m\u001b[0mtimeout\u001b[0m\u001b[1;33m=\u001b[0m\u001b[0mself\u001b[0m\u001b[1;33m.\u001b[0m\u001b[0mtimeout\u001b[0m\u001b[1;33m)\u001b[0m\u001b[1;33m)\u001b[0m\u001b[1;33m\u001b[0m\u001b[0m\n\u001b[0m\u001b[0;32m    700\u001b[0m                 \u001b[1;32melse\u001b[0m\u001b[1;33m:\u001b[0m\u001b[1;33m\u001b[0m\u001b[0m\n\u001b[0;32m    701\u001b[0m                     \u001b[0mself\u001b[0m\u001b[1;33m.\u001b[0m\u001b[0m_output\u001b[0m\u001b[1;33m.\u001b[0m\u001b[0mextend\u001b[0m\u001b[1;33m(\u001b[0m\u001b[0mjob\u001b[0m\u001b[1;33m.\u001b[0m\u001b[0mget\u001b[0m\u001b[1;33m(\u001b[0m\u001b[1;33m)\u001b[0m\u001b[1;33m)\u001b[0m\u001b[1;33m\u001b[0m\u001b[0m\n",
      "\u001b[1;32m~\\Anaconda3\\lib\\multiprocessing\\pool.py\u001b[0m in \u001b[0;36mget\u001b[1;34m(self, timeout)\u001b[0m\n\u001b[0;32m    636\u001b[0m \u001b[1;33m\u001b[0m\u001b[0m\n\u001b[0;32m    637\u001b[0m     \u001b[1;32mdef\u001b[0m \u001b[0mget\u001b[0m\u001b[1;33m(\u001b[0m\u001b[0mself\u001b[0m\u001b[1;33m,\u001b[0m \u001b[0mtimeout\u001b[0m\u001b[1;33m=\u001b[0m\u001b[1;32mNone\u001b[0m\u001b[1;33m)\u001b[0m\u001b[1;33m:\u001b[0m\u001b[1;33m\u001b[0m\u001b[0m\n\u001b[1;32m--> 638\u001b[1;33m         \u001b[0mself\u001b[0m\u001b[1;33m.\u001b[0m\u001b[0mwait\u001b[0m\u001b[1;33m(\u001b[0m\u001b[0mtimeout\u001b[0m\u001b[1;33m)\u001b[0m\u001b[1;33m\u001b[0m\u001b[0m\n\u001b[0m\u001b[0;32m    639\u001b[0m         \u001b[1;32mif\u001b[0m \u001b[1;32mnot\u001b[0m \u001b[0mself\u001b[0m\u001b[1;33m.\u001b[0m\u001b[0mready\u001b[0m\u001b[1;33m(\u001b[0m\u001b[1;33m)\u001b[0m\u001b[1;33m:\u001b[0m\u001b[1;33m\u001b[0m\u001b[0m\n\u001b[0;32m    640\u001b[0m             \u001b[1;32mraise\u001b[0m \u001b[0mTimeoutError\u001b[0m\u001b[1;33m\u001b[0m\u001b[0m\n",
      "\u001b[1;32m~\\Anaconda3\\lib\\multiprocessing\\pool.py\u001b[0m in \u001b[0;36mwait\u001b[1;34m(self, timeout)\u001b[0m\n\u001b[0;32m    633\u001b[0m \u001b[1;33m\u001b[0m\u001b[0m\n\u001b[0;32m    634\u001b[0m     \u001b[1;32mdef\u001b[0m \u001b[0mwait\u001b[0m\u001b[1;33m(\u001b[0m\u001b[0mself\u001b[0m\u001b[1;33m,\u001b[0m \u001b[0mtimeout\u001b[0m\u001b[1;33m=\u001b[0m\u001b[1;32mNone\u001b[0m\u001b[1;33m)\u001b[0m\u001b[1;33m:\u001b[0m\u001b[1;33m\u001b[0m\u001b[0m\n\u001b[1;32m--> 635\u001b[1;33m         \u001b[0mself\u001b[0m\u001b[1;33m.\u001b[0m\u001b[0m_event\u001b[0m\u001b[1;33m.\u001b[0m\u001b[0mwait\u001b[0m\u001b[1;33m(\u001b[0m\u001b[0mtimeout\u001b[0m\u001b[1;33m)\u001b[0m\u001b[1;33m\u001b[0m\u001b[0m\n\u001b[0m\u001b[0;32m    636\u001b[0m \u001b[1;33m\u001b[0m\u001b[0m\n\u001b[0;32m    637\u001b[0m     \u001b[1;32mdef\u001b[0m \u001b[0mget\u001b[0m\u001b[1;33m(\u001b[0m\u001b[0mself\u001b[0m\u001b[1;33m,\u001b[0m \u001b[0mtimeout\u001b[0m\u001b[1;33m=\u001b[0m\u001b[1;32mNone\u001b[0m\u001b[1;33m)\u001b[0m\u001b[1;33m:\u001b[0m\u001b[1;33m\u001b[0m\u001b[0m\n",
      "\u001b[1;32m~\\Anaconda3\\lib\\threading.py\u001b[0m in \u001b[0;36mwait\u001b[1;34m(self, timeout)\u001b[0m\n\u001b[0;32m    549\u001b[0m             \u001b[0msignaled\u001b[0m \u001b[1;33m=\u001b[0m \u001b[0mself\u001b[0m\u001b[1;33m.\u001b[0m\u001b[0m_flag\u001b[0m\u001b[1;33m\u001b[0m\u001b[0m\n\u001b[0;32m    550\u001b[0m             \u001b[1;32mif\u001b[0m \u001b[1;32mnot\u001b[0m \u001b[0msignaled\u001b[0m\u001b[1;33m:\u001b[0m\u001b[1;33m\u001b[0m\u001b[0m\n\u001b[1;32m--> 551\u001b[1;33m                 \u001b[0msignaled\u001b[0m \u001b[1;33m=\u001b[0m \u001b[0mself\u001b[0m\u001b[1;33m.\u001b[0m\u001b[0m_cond\u001b[0m\u001b[1;33m.\u001b[0m\u001b[0mwait\u001b[0m\u001b[1;33m(\u001b[0m\u001b[0mtimeout\u001b[0m\u001b[1;33m)\u001b[0m\u001b[1;33m\u001b[0m\u001b[0m\n\u001b[0m\u001b[0;32m    552\u001b[0m             \u001b[1;32mreturn\u001b[0m \u001b[0msignaled\u001b[0m\u001b[1;33m\u001b[0m\u001b[0m\n\u001b[0;32m    553\u001b[0m \u001b[1;33m\u001b[0m\u001b[0m\n",
      "\u001b[1;32m~\\Anaconda3\\lib\\threading.py\u001b[0m in \u001b[0;36mwait\u001b[1;34m(self, timeout)\u001b[0m\n\u001b[0;32m    293\u001b[0m         \u001b[1;32mtry\u001b[0m\u001b[1;33m:\u001b[0m    \u001b[1;31m# restore state no matter what (e.g., KeyboardInterrupt)\u001b[0m\u001b[1;33m\u001b[0m\u001b[0m\n\u001b[0;32m    294\u001b[0m             \u001b[1;32mif\u001b[0m \u001b[0mtimeout\u001b[0m \u001b[1;32mis\u001b[0m \u001b[1;32mNone\u001b[0m\u001b[1;33m:\u001b[0m\u001b[1;33m\u001b[0m\u001b[0m\n\u001b[1;32m--> 295\u001b[1;33m                 \u001b[0mwaiter\u001b[0m\u001b[1;33m.\u001b[0m\u001b[0macquire\u001b[0m\u001b[1;33m(\u001b[0m\u001b[1;33m)\u001b[0m\u001b[1;33m\u001b[0m\u001b[0m\n\u001b[0m\u001b[0;32m    296\u001b[0m                 \u001b[0mgotit\u001b[0m \u001b[1;33m=\u001b[0m \u001b[1;32mTrue\u001b[0m\u001b[1;33m\u001b[0m\u001b[0m\n\u001b[0;32m    297\u001b[0m             \u001b[1;32melse\u001b[0m\u001b[1;33m:\u001b[0m\u001b[1;33m\u001b[0m\u001b[0m\n",
      "\u001b[1;31mKeyboardInterrupt\u001b[0m: "
     ]
    }
   ],
   "source": [
    "# optimize model parameters using exhaustive grid search\n",
    "from sklearn.model_selection import GridSearchCV\n",
    "\n",
    "n_trees_options = list(range(100, 1001, 200))\n",
    "features_options = ['auto', 'sqrt', 'log2', None, 2, 4, 6, 8, 10]\n",
    "depth_options = [None, 10, 20, 30, 40]\n",
    "\n",
    "param_grid = dict(n_estimators=n_trees_options, max_features=features_options, max_depth=depth_options)\n",
    "\n",
    "random_forest = RandomForestClassifier()\n",
    "\n",
    "grid = GridSearchCV(random_forest, param_grid, scoring='accuracy', cv=10, n_jobs=-1)\n",
    "\n",
    "grid.fit(X, y)"
>>>>>>> 48bd9da661163899201e9cca68f7a0788e80b06a
   ]
  },
  {
   "cell_type": "code",
<<<<<<< HEAD
   "execution_count": 35,
   "metadata": {},
   "outputs": [
    {
     "data": {
      "text/plain": [
       "RandomForestClassifier(bootstrap=True, class_weight=None, criterion='gini',\n",
       "            max_depth=20, max_features=2, max_leaf_nodes=None,\n",
       "            min_impurity_decrease=0.0, min_impurity_split=None,\n",
       "            min_samples_leaf=4, min_samples_split=10,\n",
       "            min_weight_fraction_leaf=0.0, n_estimators=200, n_jobs=7,\n",
       "            oob_score=False, random_state=1204, verbose=0,\n",
       "            warm_start=False)"
      ]
     },
     "execution_count": 35,
     "metadata": {},
     "output_type": "execute_result"
    }
   ],
   "source": [
    "# optimized model\n",
    "model = RandomForestClassifier(n_estimators=200,\n",
    "                               max_features=2,\n",
    "                               max_depth=20,\n",
    "                               min_samples_leaf=4,\n",
    "                               min_samples_split=10,\n",
    "                               n_jobs=7,\n",
=======
   "execution_count": null,
   "metadata": {},
   "outputs": [],
   "source": [
    "# optimized model\n",
    "model = RandomForestClassifier(n_estimators=500,\n",
    "                               max_features=1,\n",
    "                               max_depth=5,\n",
    "                               n_jobs=-1,\n",
>>>>>>> 48bd9da661163899201e9cca68f7a0788e80b06a
    "                               random_state=seed)\n",
    "model.fit(X_train, y_train)"
   ]
  },
  {
   "cell_type": "code",
<<<<<<< HEAD
   "execution_count": 36,
   "metadata": {},
   "outputs": [
    {
     "data": {
      "text/plain": [
       "<matplotlib.axes._subplots.AxesSubplot at 0xc76aeb8>"
      ]
     },
     "execution_count": 36,
     "metadata": {},
     "output_type": "execute_result"
    },
    {
     "data": {
      "image/png": "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\n",
      "text/plain": [
       "<matplotlib.figure.Figure at 0xb2a8470>"
      ]
     },
     "metadata": {},
     "output_type": "display_data"
    }
   ],
=======
   "execution_count": null,
   "metadata": {},
   "outputs": [],
>>>>>>> 48bd9da661163899201e9cca68f7a0788e80b06a
   "source": [
    "importances = pd.Series(model.feature_importances_, index=X_train.columns)\n",
    "importances.sort_values(inplace=True)\n",
    "plt.title('Variable Importance')\n",
    "importances.plot(kind='barh')"
   ]
  },
  {
   "cell_type": "code",
<<<<<<< HEAD
   "execution_count": 37,
   "metadata": {},
   "outputs": [
    {
     "data": {
      "image/png": "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\n",
      "text/plain": [
       "<matplotlib.figure.Figure at 0xb5a5240>"
      ]
     },
     "metadata": {},
     "output_type": "display_data"
    }
   ],
=======
   "execution_count": null,
   "metadata": {},
   "outputs": [],
>>>>>>> 48bd9da661163899201e9cca68f7a0788e80b06a
   "source": [
    "confusion = ConfusionMatrix(model, classes=[0,1])\n",
    "confusion.score(X_test, y_test)\n",
    "confusion.poof()"
   ]
  },
  {
   "cell_type": "code",
<<<<<<< HEAD
   "execution_count": 38,
   "metadata": {},
   "outputs": [
    {
     "data": {
      "image/png": "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\n",
      "text/plain": [
       "<matplotlib.figure.Figure at 0xc7d96d8>"
      ]
     },
     "metadata": {},
     "output_type": "display_data"
    }
   ],
=======
   "execution_count": null,
   "metadata": {},
   "outputs": [],
>>>>>>> 48bd9da661163899201e9cca68f7a0788e80b06a
   "source": [
    "balance = ClassBalance(model, classes=[0,1])\n",
    "plt.title('Class Balance')\n",
    "balance.score(X_test, y_test)\n",
    "balance.poof()"
   ]
  },
  {
   "cell_type": "code",
<<<<<<< HEAD
   "execution_count": 39,
   "metadata": {},
   "outputs": [
    {
     "data": {
      "image/png": "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\n",
      "text/plain": [
       "<matplotlib.figure.Figure at 0xb527908>"
      ]
     },
     "metadata": {},
     "output_type": "display_data"
    }
   ],
=======
   "execution_count": null,
   "metadata": {},
   "outputs": [],
>>>>>>> 48bd9da661163899201e9cca68f7a0788e80b06a
   "source": [
    "# ROC curve\n",
    "roc_curve = ROCAUC(model, classes=[0,1])\n",
    "roc_curve.score(X_test, y_test)\n",
    "roc_curve.poof()"
   ]
  },
  {
<<<<<<< HEAD
   "cell_type": "markdown",
   "metadata": {},
   "source": [
    "___\n",
    "## Threshold Selection\n",
    "\n",
    "Now that the model parameters have been tuned, the final step is to select a threshold for converting the model probabilities into class determinations. I have found it easiest here to visualize the sensitivity, specificity, and accuracy across a range of thresholds.\n",
    "___"
   ]
  },
  {
   "cell_type": "code",
   "execution_count": 61,
   "metadata": {},
   "outputs": [
    {
     "data": {
      "image/png": "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\n",
      "text/plain": [
       "<matplotlib.figure.Figure at 0xb838128>"
      ]
     },
     "metadata": {},
     "output_type": "display_data"
    },
    {
     "name": "stdout",
     "output_type": "stream",
     "text": [
      "           sensitivity  specificity  accuracy\n",
      "threshold                                    \n",
      "0.40            0.9875     0.027027  0.683761\n",
      "0.41            0.9875     0.027027  0.683761\n",
      "0.42            0.9875     0.027027  0.683761\n",
      "0.43            0.9875     0.027027  0.683761\n",
      "0.44            0.9750     0.027027  0.675214\n",
      "0.45            0.9750     0.027027  0.675214\n",
      "0.46            0.9625     0.027027  0.666667\n",
      "0.47            0.9625     0.027027  0.666667\n",
      "0.48            0.9625     0.027027  0.666667\n",
      "0.49            0.9625     0.027027  0.666667\n",
      "0.50            0.9375     0.108108  0.675214\n",
      "0.51            0.9375     0.162162  0.692308\n",
      "0.52            0.9250     0.216216  0.700855\n",
      "0.53            0.9250     0.216216  0.700855\n",
      "0.54            0.9000     0.297297  0.709402\n",
      "0.55            0.9000     0.351351  0.726496\n",
      "0.56            0.8875     0.351351  0.717949\n",
      "0.57            0.8875     0.432432  0.743590\n",
      "0.58            0.8750     0.432432  0.735043\n",
      "0.59            0.8750     0.432432  0.735043\n",
      "0.60            0.8250     0.432432  0.700855\n",
      "0.61            0.8125     0.513514  0.717949\n",
      "0.62            0.8125     0.540541  0.726496\n",
      "0.63            0.8125     0.567568  0.735043\n",
      "0.64            0.8000     0.621622  0.743590\n",
      "0.65            0.7750     0.702703  0.752137\n",
      "0.66            0.7500     0.702703  0.735043\n",
      "0.67            0.7500     0.729730  0.743590\n",
      "0.68            0.7500     0.756757  0.752137\n",
      "0.69            0.7125     0.810811  0.743590\n",
      "...                ...          ...       ...\n",
      "0.71            0.6750     0.837838  0.726496\n",
      "0.72            0.6375     0.837838  0.700855\n",
      "0.73            0.5875     0.891892  0.683761\n",
      "0.74            0.5875     0.891892  0.683761\n",
      "0.75            0.5625     0.891892  0.666667\n",
      "0.76            0.5625     0.891892  0.666667\n",
      "0.77            0.5500     0.891892  0.658120\n",
      "0.78            0.5375     0.918919  0.658120\n",
      "0.79            0.5375     0.918919  0.658120\n",
      "0.80            0.5250     0.918919  0.649573\n",
      "0.81            0.5000     0.918919  0.632479\n",
      "0.82            0.4875     0.918919  0.623932\n",
      "0.83            0.4625     0.972973  0.623932\n",
      "0.84            0.4500     0.972973  0.615385\n",
      "0.85            0.4000     0.972973  0.581197\n",
      "0.86            0.3875     0.972973  0.572650\n",
      "0.87            0.3750     0.972973  0.564103\n",
      "0.88            0.3375     0.972973  0.538462\n",
      "0.89            0.3250     0.972973  0.529915\n",
      "0.90            0.3000     0.972973  0.512821\n",
      "0.91            0.2625     0.972973  0.487179\n",
      "0.92            0.2125     1.000000  0.461538\n",
      "0.93            0.2000     1.000000  0.452991\n",
      "0.94            0.1750     1.000000  0.435897\n",
      "0.95            0.1500     1.000000  0.418803\n",
      "0.96            0.1375     1.000000  0.410256\n",
      "0.97            0.1125     1.000000  0.393162\n",
      "0.98            0.0500     1.000000  0.350427\n",
      "0.99            0.0375     1.000000  0.341880\n",
      "1.00            0.0000     1.000000  0.316239\n",
      "\n",
      "[61 rows x 3 columns]\n"
     ]
    }
   ],
   "source": [
    "# plot model success metrics by threshold\n",
    "from sklearn.metrics import confusion_matrix\n",
    "\n",
    "def threshold_func_gen(threshold):\n",
    "    ''' creates a thresholding function to convert probabilities to class designation '''\n",
    "    def threshold_func(value):\n",
    "        if value >= threshold:\n",
    "            return 1\n",
    "        else:\n",
    "            return 0\n",
    "    \n",
    "    return threshold_func\n",
    "\n",
    "predicted_probs = pd.Series(model.predict_proba(X_test)[:,1])\n",
    "threshold_options = list(np.linspace(0.4, 1.0, num=61))\n",
    "sens_by_thresh = np.empty(len(threshold_options))\n",
    "spec_by_thresh = np.empty(len(threshold_options))\n",
    "acc_by_thresh = np.empty(len(threshold_options))\n",
    "\n",
    "for i, threshold in enumerate(threshold_options):\n",
    "    threshold_func = threshold_func_gen(threshold)\n",
    "    y_pred = predicted_probs.map(threshold_func)\n",
    "    matrix = confusion_matrix(y_test, y_pred)\n",
    "    sens_by_thresh[i] = matrix[1, 1]/np.sum(matrix[1,:])\n",
    "    spec_by_thresh[i] = matrix[0, 0]/np.sum(matrix[0,:])\n",
    "    acc_by_thresh[i] = (matrix[0,0] + matrix[1,1])/np.sum(matrix)\n",
    "    \n",
    "threshold_df = pd.DataFrame(threshold_options)\n",
    "threshold_df['sensitivity'] = sens_by_thresh\n",
    "threshold_df['specificity'] = spec_by_thresh\n",
    "threshold_df['accuracy'] = acc_by_thresh\n",
    "threshold_df.set_index(0, inplace=True)\n",
    "threshold_df.index.name = 'threshold'\n",
    "threshold_df.plot()\n",
    "plt.title('Sensitivity, Specificity, and Accuracy by Threshold')\n",
    "plt.xlabel('Threshold')\n",
    "plt.show()\n",
    "print(threshold_df)"
   ]
  },
  {
   "cell_type": "markdown",
   "metadata": {},
   "source": [
    "___\n",
    "Which threshold to choose is mainly a question of how the model will be used in the real world. Because the blood tests used to train this model have relatively low sensitivity for liver disease while having good specificity above a certain threshold, an argument can be made to use this model as a 'rule-in' test. In other words, if the model predicts that a person has liver disease, doctors can take that as strong indication that liver disease does, in fact, exist. For this type of model, a high threshold such as 0.85 should be selected. This threshold will only detect around 40% of liver disease patients, but has a false positive rate of less than 3%.\n",
    "___"
   ]
  },
  {
   "cell_type": "code",
   "execution_count": 59,
   "metadata": {},
   "outputs": [
    {
     "name": "stdout",
     "output_type": "stream",
     "text": [
      "[[36  1]\n",
      " [48 32]]\n"
     ]
    }
   ],
   "source": [
    "# show confusion matrix for threshold of 0.85\n",
    "threshold_func = threshold_func_gen(0.85)\n",
    "y_pred = predicted_probs.map(threshold_func)\n",
    "print(confusion_matrix(y_test, y_pred))"
   ]
  },
  {
   "cell_type": "markdown",
   "metadata": {},
   "source": [
    "___\n",
    "If maximum accuracy is desired, a threshold around 0.68 should be selected. This threshold has a good balance of sensitivity and specificity, and has the highest overall accuracy.\n",
    "___"
   ]
  },
  {
   "cell_type": "code",
   "execution_count": 62,
   "metadata": {},
   "outputs": [
    {
     "name": "stdout",
     "output_type": "stream",
     "text": [
      "[[28  9]\n",
      " [20 60]]\n"
     ]
    }
   ],
   "source": [
    "# show confusion matrix for threshold of 0.68\n",
    "threshold_func = threshold_func_gen(0.68)\n",
    "y_pred = predicted_probs.map(threshold_func)\n",
    "print(confusion_matrix(y_test, y_pred))"
   ]
  },
  {
   "cell_type": "markdown",
   "metadata": {},
   "source": [
    "___\n",
    "It is important to note that trying to use this model as a 'rule-out' test, or a test that has high sensitivity, is misguided due to the limitations of the measurements used to train the model. Since the blood tests have low sensitivity (many liver disease patients have normal or near-normal liver enzyme tests), this model will also have poor sensitivity.\n",
    "\n",
    "A third option is to have the model report both the patient's predicted liver disease state using the maximal-accuracy threshold, and also the sensitivity and/or specificity corresponding to the predicted probability determined by the model. \n",
    "\n",
    "For example, a patient with a predicted probability of 0.80 would be predicted to have liver disease, and the model would also tell the doctor that the specificity of the model's determination is 0.92. The doctor can be relatively confident that the patient does have liver disease, because he or she knows that there is only around an 8% chance that a healthy patient would be wrongly classified as diseased with this predicted probability.\n",
    "\n",
    "For another example, a patient with a predicted probability of 0.5 would be predicted to not have liver disease, and the model would report a sensitivity of 0.94 for its determination. The doctor could then appreciate that around 6% of people with liver disease are wrongly classified as healthy at this predicted probability.\n",
    "\n",
    "For this kind of reporting, it would be optimal to have a meaningful measurement of predictive value. Positive predictive value is the proportion of people classified as diseased that are actually diseased, while negative predictive value is the proportion of people classified as not diseased that actually don't have disease. If these metrics could be reported accurately, it would give doctors a better estimate for the true probability that a given patient has liver disease, based on reported class determination and positive or negative predictive value.\n",
    "\n",
    "However, in order for the predictive value of a model to have real-world significance, the class balance in the data used to train the model would have to match the true class balance in the population. Since this data set certainly does not fit that requirement, use of predictive value here would be misleading.\n",
    "___"
=======
   "cell_type": "code",
   "execution_count": null,
   "metadata": {},
   "outputs": [],
   "source": [
    "def convert_with_threshold(value):\n",
    "    threshold = 0.6\n",
    "    if value >= threshold:\n",
    "        return 1\n",
    "    else:\n",
    "        return 0\n",
    "\n",
    "predicted_probs = pd.Series(model.predict_proba(X_test)[:,1])\n",
    "y_pred = predicted_probs.map(convert_with_threshold)\n",
    "\n",
    "from sklearn.metrics import confusion_matrix\n",
    "\n",
    "print(confusion_matrix(y_test, y_pred))"
>>>>>>> 48bd9da661163899201e9cca68f7a0788e80b06a
   ]
  },
  {
   "cell_type": "code",
   "execution_count": null,
   "metadata": {},
   "outputs": [],
   "source": []
  }
 ],
 "metadata": {
  "kernelspec": {
   "display_name": "Python 3",
   "language": "python",
   "name": "python3"
  },
  "language_info": {
   "codemirror_mode": {
    "name": "ipython",
    "version": 3
   },
   "file_extension": ".py",
   "mimetype": "text/x-python",
   "name": "python",
   "nbconvert_exporter": "python",
   "pygments_lexer": "ipython3",
   "version": "3.6.4"
  }
 },
 "nbformat": 4,
 "nbformat_minor": 2
}
