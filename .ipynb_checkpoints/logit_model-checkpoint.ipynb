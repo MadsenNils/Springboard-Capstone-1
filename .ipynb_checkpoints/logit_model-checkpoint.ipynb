{
 "cells": [
  {
   "cell_type": "markdown",
   "metadata": {},
   "source": [
    "___\n",
    "## Springboard Capstone 1: Liver Disease Prediction\n",
    "### Logistic Regression Model\n",
    "\n",
    "Nils Madsen\n",
    "___"
   ]
  },
  {
   "cell_type": "code",
   "execution_count": 1,
   "metadata": {},
   "outputs": [],
   "source": [
    "import numpy as np\n",
    "import pandas as pd\n",
    "import matplotlib.pyplot as plt\n",
    "import seaborn as sns\n",
    "from sklearn.model_selection import train_test_split, cross_val_score\n",
    "from yellowbrick.classifier import ConfusionMatrix, ClassBalance\n",
    "from yellowbrick.classifier.rocauc import ROCAUC"
   ]
  },
  {
   "cell_type": "code",
   "execution_count": 2,
   "metadata": {},
   "outputs": [
    {
     "name": "stdout",
     "output_type": "stream",
     "text": [
      "<class 'pandas.core.frame.DataFrame'>\n",
      "Int64Index: 583 entries, 0 to 582\n",
      "Data columns (total 11 columns):\n",
      "age              583 non-null int64\n",
      "sex              583 non-null object\n",
      "total bili       583 non-null float64\n",
      "direct bili      583 non-null float64\n",
      "ALP              583 non-null int64\n",
      "ALT              583 non-null int64\n",
      "AST              583 non-null int64\n",
      "total protein    583 non-null float64\n",
      "albumin          583 non-null float64\n",
      "a-g ratio        583 non-null float64\n",
      "liver disease    583 non-null bool\n",
      "dtypes: bool(1), float64(5), int64(4), object(1)\n",
      "memory usage: 50.7+ KB\n",
      "None\n"
     ]
    },
    {
     "data": {
      "text/html": [
       "<div>\n",
       "<style scoped>\n",
       "    .dataframe tbody tr th:only-of-type {\n",
       "        vertical-align: middle;\n",
       "    }\n",
       "\n",
       "    .dataframe tbody tr th {\n",
       "        vertical-align: top;\n",
       "    }\n",
       "\n",
       "    .dataframe thead th {\n",
       "        text-align: right;\n",
       "    }\n",
       "</style>\n",
       "<table border=\"1\" class=\"dataframe\">\n",
       "  <thead>\n",
       "    <tr style=\"text-align: right;\">\n",
       "      <th></th>\n",
       "      <th>age</th>\n",
       "      <th>sex</th>\n",
       "      <th>total bili</th>\n",
       "      <th>direct bili</th>\n",
       "      <th>ALP</th>\n",
       "      <th>ALT</th>\n",
       "      <th>AST</th>\n",
       "      <th>total protein</th>\n",
       "      <th>albumin</th>\n",
       "      <th>a-g ratio</th>\n",
       "      <th>liver disease</th>\n",
       "    </tr>\n",
       "  </thead>\n",
       "  <tbody>\n",
       "    <tr>\n",
       "      <th>0</th>\n",
       "      <td>65</td>\n",
       "      <td>0</td>\n",
       "      <td>0.7</td>\n",
       "      <td>0.1</td>\n",
       "      <td>187</td>\n",
       "      <td>16</td>\n",
       "      <td>18</td>\n",
       "      <td>6.8</td>\n",
       "      <td>3.3</td>\n",
       "      <td>0.90</td>\n",
       "      <td>1</td>\n",
       "    </tr>\n",
       "    <tr>\n",
       "      <th>1</th>\n",
       "      <td>62</td>\n",
       "      <td>1</td>\n",
       "      <td>10.9</td>\n",
       "      <td>5.5</td>\n",
       "      <td>699</td>\n",
       "      <td>64</td>\n",
       "      <td>100</td>\n",
       "      <td>7.5</td>\n",
       "      <td>3.2</td>\n",
       "      <td>0.74</td>\n",
       "      <td>1</td>\n",
       "    </tr>\n",
       "    <tr>\n",
       "      <th>2</th>\n",
       "      <td>62</td>\n",
       "      <td>1</td>\n",
       "      <td>7.3</td>\n",
       "      <td>4.1</td>\n",
       "      <td>490</td>\n",
       "      <td>60</td>\n",
       "      <td>68</td>\n",
       "      <td>7.0</td>\n",
       "      <td>3.3</td>\n",
       "      <td>0.89</td>\n",
       "      <td>1</td>\n",
       "    </tr>\n",
       "    <tr>\n",
       "      <th>3</th>\n",
       "      <td>58</td>\n",
       "      <td>1</td>\n",
       "      <td>1.0</td>\n",
       "      <td>0.4</td>\n",
       "      <td>182</td>\n",
       "      <td>14</td>\n",
       "      <td>20</td>\n",
       "      <td>6.8</td>\n",
       "      <td>3.4</td>\n",
       "      <td>1.00</td>\n",
       "      <td>1</td>\n",
       "    </tr>\n",
       "    <tr>\n",
       "      <th>4</th>\n",
       "      <td>72</td>\n",
       "      <td>1</td>\n",
       "      <td>3.9</td>\n",
       "      <td>2.0</td>\n",
       "      <td>195</td>\n",
       "      <td>27</td>\n",
       "      <td>59</td>\n",
       "      <td>7.3</td>\n",
       "      <td>2.4</td>\n",
       "      <td>0.40</td>\n",
       "      <td>1</td>\n",
       "    </tr>\n",
       "    <tr>\n",
       "      <th>5</th>\n",
       "      <td>46</td>\n",
       "      <td>1</td>\n",
       "      <td>1.8</td>\n",
       "      <td>0.7</td>\n",
       "      <td>208</td>\n",
       "      <td>19</td>\n",
       "      <td>14</td>\n",
       "      <td>7.6</td>\n",
       "      <td>4.4</td>\n",
       "      <td>1.30</td>\n",
       "      <td>1</td>\n",
       "    </tr>\n",
       "    <tr>\n",
       "      <th>6</th>\n",
       "      <td>26</td>\n",
       "      <td>0</td>\n",
       "      <td>0.9</td>\n",
       "      <td>0.2</td>\n",
       "      <td>154</td>\n",
       "      <td>16</td>\n",
       "      <td>12</td>\n",
       "      <td>7.0</td>\n",
       "      <td>3.5</td>\n",
       "      <td>1.00</td>\n",
       "      <td>1</td>\n",
       "    </tr>\n",
       "    <tr>\n",
       "      <th>7</th>\n",
       "      <td>29</td>\n",
       "      <td>0</td>\n",
       "      <td>0.9</td>\n",
       "      <td>0.3</td>\n",
       "      <td>202</td>\n",
       "      <td>14</td>\n",
       "      <td>11</td>\n",
       "      <td>6.7</td>\n",
       "      <td>3.6</td>\n",
       "      <td>1.10</td>\n",
       "      <td>1</td>\n",
       "    </tr>\n",
       "    <tr>\n",
       "      <th>8</th>\n",
       "      <td>17</td>\n",
       "      <td>1</td>\n",
       "      <td>0.9</td>\n",
       "      <td>0.3</td>\n",
       "      <td>202</td>\n",
       "      <td>22</td>\n",
       "      <td>19</td>\n",
       "      <td>7.4</td>\n",
       "      <td>4.1</td>\n",
       "      <td>1.20</td>\n",
       "      <td>0</td>\n",
       "    </tr>\n",
       "    <tr>\n",
       "      <th>9</th>\n",
       "      <td>55</td>\n",
       "      <td>1</td>\n",
       "      <td>0.7</td>\n",
       "      <td>0.2</td>\n",
       "      <td>290</td>\n",
       "      <td>53</td>\n",
       "      <td>58</td>\n",
       "      <td>6.8</td>\n",
       "      <td>3.4</td>\n",
       "      <td>1.00</td>\n",
       "      <td>1</td>\n",
       "    </tr>\n",
       "  </tbody>\n",
       "</table>\n",
       "</div>"
      ],
      "text/plain": [
       "   age  sex  total bili  direct bili  ALP  ALT  AST  total protein  albumin  \\\n",
       "0   65    0         0.7          0.1  187   16   18            6.8      3.3   \n",
       "1   62    1        10.9          5.5  699   64  100            7.5      3.2   \n",
       "2   62    1         7.3          4.1  490   60   68            7.0      3.3   \n",
       "3   58    1         1.0          0.4  182   14   20            6.8      3.4   \n",
       "4   72    1         3.9          2.0  195   27   59            7.3      2.4   \n",
       "5   46    1         1.8          0.7  208   19   14            7.6      4.4   \n",
       "6   26    0         0.9          0.2  154   16   12            7.0      3.5   \n",
       "7   29    0         0.9          0.3  202   14   11            6.7      3.6   \n",
       "8   17    1         0.9          0.3  202   22   19            7.4      4.1   \n",
       "9   55    1         0.7          0.2  290   53   58            6.8      3.4   \n",
       "\n",
       "   a-g ratio  liver disease  \n",
       "0       0.90              1  \n",
       "1       0.74              1  \n",
       "2       0.89              1  \n",
       "3       1.00              1  \n",
       "4       0.40              1  \n",
       "5       1.30              1  \n",
       "6       1.00              1  \n",
       "7       1.10              1  \n",
       "8       1.20              0  \n",
       "9       1.00              1  "
      ]
     },
     "execution_count": 2,
     "metadata": {},
     "output_type": "execute_result"
    }
   ],
   "source": [
    "# import cleaned data\n",
    "liver_df = pd.read_csv('indian_liver_dataset_clean.csv', index_col=0)\n",
    "print(liver_df.info())\n",
    "\n",
    "# convert sex and disease group variables to numeric form\n",
    "liver_df.sex = liver_df.sex.map({'Male': 1, 'Female': 0})\n",
    "liver_df['liver disease'] = liver_df['liver disease'].astype('int')\n",
    "liver_df.head(10)"
   ]
  },
  {
   "cell_type": "code",
   "execution_count": 21,
   "metadata": {},
   "outputs": [
    {
     "data": {
      "text/plain": [
       "0.7135506003430532"
      ]
     },
     "execution_count": 21,
     "metadata": {},
     "output_type": "execute_result"
    }
   ],
   "source": [
    "# baseline accuracy\n",
    "sum(liver_df['liver disease'])/len(liver_df['liver disease'])"
   ]
  },
  {
   "cell_type": "code",
   "execution_count": 28,
   "metadata": {},
   "outputs": [],
   "source": [
    "# split into train and test, stratified by disease group\n",
    "seed = 42\n",
    "test_prop = 0.25\n",
    "\n",
    "X = liver_df.copy()\n",
    "y = X.pop('liver disease')\n",
    "X_train, X_test, y_train, y_test = train_test_split(X, y, test_size=test_prop, stratify=y)"
   ]
  },
  {
   "cell_type": "code",
   "execution_count": 29,
   "metadata": {},
   "outputs": [
    {
     "name": "stdout",
     "output_type": "stream",
     "text": [
      "{'C': 0.006734150657750821, 'penalty': 'l2'}\n",
      "0.7475411530228097\n"
     ]
    }
   ],
   "source": [
    "# tune hyperparameters with cross-validation\n",
    "from sklearn.model_selection import GridSearchCV\n",
    "from sklearn.linear_model import LogisticRegression\n",
    "\n",
    "param_grid = {'penalty': ['l1', 'l2'],\n",
    "              'C': np.logspace(-5, 2, 100)}\n",
    "\n",
    "logit = LogisticRegression()\n",
    "logit_grid = GridSearchCV(logit, param_grid, cv=5, scoring='roc_auc', return_train_score=False)\n",
    "logit_grid.fit(X_train, y_train)\n",
    "\n",
    "print(logit_grid.best_params_)\n",
    "print(logit_grid.best_score_)\n",
    "cv_results = pd.DataFrame(logit_grid.cv_results_)\n",
    "l1_results = cv_results[cv_results.param_penalty == 'l1']\n",
    "l2_results = cv_results[cv_results.param_penalty == 'l2']\n"
   ]
  },
  {
   "cell_type": "code",
   "execution_count": 30,
   "metadata": {},
   "outputs": [
    {
     "data": {
      "image/png": "[encoded data removed]",
      "text/plain": [
       "<matplotlib.figure.Figure at 0xb836e10>"
      ]
     },
     "metadata": {},
     "output_type": "display_data"
    }
   ],
   "source": [
    "plt.plot(l2_results.param_C, l2_results.mean_test_score, label='l2 penalty')\n",
    "plt.plot(l1_results.param_C, l1_results.mean_test_score, color='red', label='l1 penalty')\n",
    "plt.xscale('log')\n",
    "plt.title('C parameter vs AUC score')\n",
    "plt.xlabel('C parameter value')\n",
    "plt.ylabel('Mean test AUC')\n",
    "plt.legend(loc='lower right')\n",
    "plt.show()"
   ]
  },
  {
   "cell_type": "markdown",
   "metadata": {},
   "source": [
    "Unsurprisingly, the l2 penalty shows better general performance."
   ]
  },
  {
   "cell_type": "code",
   "execution_count": 31,
   "metadata": {},
   "outputs": [
    {
     "data": {
      "image/png": "[encoded data removed]",
      "text/plain": [
       "<matplotlib.figure.Figure at 0xbd8cd68>"
      ]
     },
     "metadata": {},
     "output_type": "display_data"
    }
   ],
   "source": [
    "plt.plot(l2_results.param_C, l2_results.mean_test_score, label='l2 penalty')\n",
    "plt.xscale('log')\n",
    "plt.title('C parameter vs AUC score (l2 only)')\n",
    "plt.xlabel('C parameter value')\n",
    "plt.ylabel('Mean test AUC')\n",
    "plt.show()"
   ]
  },
  {
   "cell_type": "markdown",
   "metadata": {},
   "source": [
    "Larger values of the hyperparameter C show a jump in performance over lower values. Therefore I will set the C value to 44.3 and the penalty to l2."
   ]
  },
  {
   "cell_type": "code",
   "execution_count": 32,
   "metadata": {},
   "outputs": [
    {
     "data": {
      "text/plain": [
       "LogisticRegression(C=0.00673, class_weight=None, dual=False,\n",
       "          fit_intercept=True, intercept_scaling=1, max_iter=100,\n",
       "          multi_class='ovr', n_jobs=1, penalty='l2', random_state=42,\n",
       "          solver='liblinear', tol=0.0001, verbose=0, warm_start=False)"
      ]
     },
     "execution_count": 32,
     "metadata": {},
     "output_type": "execute_result"
    }
   ],
   "source": [
    "# train optimized model\n",
    "model = LogisticRegression(C=0.00673, penalty='l2', random_state=seed)\n",
    "model.fit(X_train, y_train)"
   ]
  },
  {
   "cell_type": "code",
   "execution_count": 33,
   "metadata": {},
   "outputs": [
    {
     "data": {
      "text/plain": [
       "0.7191780821917808"
      ]
     },
     "execution_count": 33,
     "metadata": {},
     "output_type": "execute_result"
    }
   ],
   "source": [
    "# calculate model accuracy on test data\n",
    "model.score(X_test, y_test)"
   ]
  },
  {
   "cell_type": "code",
   "execution_count": 34,
   "metadata": {},
   "outputs": [
    {
     "data": {
      "image/png": "[encoded data removed]",
      "text/plain": [
       "<matplotlib.figure.Figure at 0xbd35470>"
      ]
     },
     "metadata": {},
     "output_type": "display_data"
    },
    {
     "name": "stdout",
     "output_type": "stream",
     "text": [
      "           sensitivity  specificity  accuracy\n",
      "threshold                                    \n",
      "0.40          1.000000     0.000000  0.712329\n",
      "0.41          1.000000     0.000000  0.712329\n",
      "0.42          1.000000     0.000000  0.712329\n",
      "0.43          0.990385     0.000000  0.705479\n",
      "0.44          0.990385     0.000000  0.705479\n",
      "0.45          0.990385     0.000000  0.705479\n",
      "0.46          0.990385     0.000000  0.705479\n",
      "0.47          0.990385     0.000000  0.705479\n",
      "0.48          0.990385     0.000000  0.705479\n",
      "0.49          0.990385     0.023810  0.712329\n",
      "0.50          0.990385     0.047619  0.719178\n",
      "0.51          0.980769     0.071429  0.719178\n",
      "0.52          0.971154     0.119048  0.726027\n",
      "0.53          0.971154     0.119048  0.726027\n",
      "0.54          0.951923     0.119048  0.712329\n",
      "0.55          0.932692     0.142857  0.705479\n",
      "0.56          0.932692     0.142857  0.705479\n",
      "0.57          0.913462     0.238095  0.719178\n",
      "0.58          0.875000     0.333333  0.719178\n",
      "0.59          0.846154     0.357143  0.705479\n",
      "0.60          0.807692     0.404762  0.691781\n",
      "0.61          0.788462     0.404762  0.678082\n",
      "0.62          0.769231     0.476190  0.684932\n",
      "0.63          0.759615     0.476190  0.678082\n",
      "0.64          0.759615     0.547619  0.698630\n",
      "0.65          0.730769     0.714286  0.726027\n",
      "0.66          0.701923     0.761905  0.719178\n",
      "0.67          0.673077     0.785714  0.705479\n",
      "0.68          0.663462     0.833333  0.712329\n",
      "0.69          0.653846     0.833333  0.705479\n",
      "0.70          0.605769     0.833333  0.671233\n",
      "0.71          0.576923     0.880952  0.664384\n",
      "0.72          0.557692     0.880952  0.650685\n",
      "0.73          0.548077     0.880952  0.643836\n",
      "0.74          0.538462     0.880952  0.636986\n",
      "0.75          0.509615     0.880952  0.616438\n",
      "0.76          0.500000     0.904762  0.616438\n",
      "0.77          0.480769     0.928571  0.609589\n",
      "0.78          0.461538     0.952381  0.602740\n",
      "0.79          0.451923     0.976190  0.602740\n",
      "0.80          0.451923     0.976190  0.602740\n",
      "0.81          0.451923     0.976190  0.602740\n",
      "0.82          0.403846     0.976190  0.568493\n",
      "0.83          0.394231     0.976190  0.561644\n",
      "0.84          0.394231     0.976190  0.561644\n",
      "0.85          0.365385     0.976190  0.541096\n",
      "0.86          0.346154     0.976190  0.527397\n",
      "0.87          0.307692     0.976190  0.500000\n",
      "0.88          0.298077     0.976190  0.493151\n",
      "0.89          0.269231     1.000000  0.479452\n",
      "0.90          0.259615     1.000000  0.472603\n",
      "0.91          0.250000     1.000000  0.465753\n",
      "0.92          0.221154     1.000000  0.445205\n",
      "0.93          0.221154     1.000000  0.445205\n",
      "0.94          0.192308     1.000000  0.424658\n",
      "0.95          0.182692     1.000000  0.417808\n"
     ]
    }
   ],
   "source": [
    "# plot model success metrics by threshold\n",
    "from sklearn.metrics import confusion_matrix\n",
    "\n",
    "def threshold_func_gen(threshold):\n",
    "    ''' creates a thresholding function to convert probabilities to class designation '''\n",
    "    def threshold_func(value):\n",
    "        if value >= threshold:\n",
    "            return 1\n",
    "        else:\n",
    "            return 0\n",
    "    \n",
    "    return threshold_func\n",
    "\n",
    "predicted_probs = pd.Series(model.predict_proba(X_test)[:,1])\n",
    "threshold_options = list(np.linspace(0.4, 0.95, num=56))\n",
    "sens_by_thresh = np.empty(len(threshold_options))\n",
    "spec_by_thresh = np.empty(len(threshold_options))\n",
    "acc_by_thresh = np.empty(len(threshold_options))\n",
    "\n",
    "for i, threshold in enumerate(threshold_options):\n",
    "    threshold_func = threshold_func_gen(threshold)\n",
    "    y_pred = predicted_probs.map(threshold_func)\n",
    "    matrix = confusion_matrix(y_test, y_pred)\n",
    "    sens_by_thresh[i] = matrix[1, 1]/np.sum(matrix[1,:])\n",
    "    spec_by_thresh[i] = matrix[0, 0]/np.sum(matrix[0,:])\n",
    "    acc_by_thresh[i] = (matrix[0,0] + matrix[1,1])/np.sum(matrix)\n",
    "    \n",
    "threshold_df = pd.DataFrame(threshold_options)\n",
    "threshold_df['sensitivity'] = sens_by_thresh\n",
    "threshold_df['specificity'] = spec_by_thresh\n",
    "threshold_df['accuracy'] = acc_by_thresh\n",
    "threshold_df.set_index(0, inplace=True)\n",
    "threshold_df.index.name = 'threshold'\n",
    "threshold_df.plot()\n",
    "plt.title('Sensitivity, Specificity, and Accuracy by Threshold')\n",
    "plt.xlabel('Threshold')\n",
    "plt.show()\n",
    "print(threshold_df)"
   ]
  },
  {
   "cell_type": "code",
   "execution_count": 10,
   "metadata": {},
   "outputs": [
    {
     "data": {
      "image/png": "[encoded data removed]",
      "text/plain": [
       "<matplotlib.figure.Figure at 0xba28c50>"
      ]
     },
     "metadata": {},
     "output_type": "display_data"
    }
   ],
   "source": [
    "# show confusion matrix for threshold of 0.59 (max accuracy)\n",
    "threshold_func = threshold_func_gen(0.59)\n",
    "y_pred = predicted_probs.map(threshold_func)\n",
    "sns.heatmap(confusion_matrix(y_test, y_pred), annot=True, cmap='YlOrBr')\n",
    "plt.title('Confusion Matrix - threshold 0.59')\n",
    "plt.ylabel('Actual')\n",
    "plt.xlabel('Predicted')\n",
    "plt.show()"
   ]
  },
  {
   "cell_type": "code",
   "execution_count": 11,
   "metadata": {},
   "outputs": [
    {
     "data": {
      "image/png": "[encoded data removed]",
      "text/plain": [
       "<matplotlib.figure.Figure at 0xbccc6d8>"
      ]
     },
     "metadata": {},
     "output_type": "display_data"
    }
   ],
   "source": [
    "# show confusion matrix for threshold of 0.76 (near-perfect specificity)\n",
    "threshold_func = threshold_func_gen(0.76)\n",
    "y_pred = predicted_probs.map(threshold_func)\n",
    "sns.heatmap(confusion_matrix(y_test, y_pred), annot=True, cmap='YlOrBr')\n",
    "plt.title('Confusion Matrix - threshold 0.76')\n",
    "plt.ylabel('Actual')\n",
    "plt.xlabel('Predicted')\n",
    "plt.show()"
   ]
  },
  {
   "cell_type": "code",
   "execution_count": null,
   "metadata": {},
   "outputs": [],
   "source": []
  }
 ],
 "metadata": {
  "kernelspec": {
   "display_name": "Python 3",
   "language": "python",
   "name": "python3"
  },
  "language_info": {
   "codemirror_mode": {
    "name": "ipython",
    "version": 3
   },
   "file_extension": ".py",
   "mimetype": "text/x-python",
   "name": "python",
   "nbconvert_exporter": "python",
   "pygments_lexer": "ipython3",
   "version": "3.6.4"
  }
 },
 "nbformat": 4,
 "nbformat_minor": 2
}
